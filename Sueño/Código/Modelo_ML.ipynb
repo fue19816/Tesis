{
  "cells": [
    {
      "cell_type": "markdown",
      "metadata": {
        "id": "mvxWxSwZ8xDG"
      },
      "source": [
        "# Modelos de Machine Learning"
      ]
    },
    {
      "cell_type": "markdown",
      "metadata": {
        "id": "QKyg6YzA81LM"
      },
      "source": [
        "## Importación de librerías"
      ]
    },
    {
      "cell_type": "code",
      "execution_count": null,
      "metadata": {
        "colab": {
          "base_uri": "https://localhost:8080/"
        },
        "id": "sfuCkJCi8vzW",
        "outputId": "e21274a3-91df-4557-b6af-e21d680f8bbe"
      },
      "outputs": [],
      "source": [
        "# Importación de librerías en caso se utilice el código en Google Collab\n",
        "from google.colab import files\n",
        "from pydrive.auth import GoogleAuth\n",
        "from pydrive.drive import GoogleDrive\n",
        "from google.colab import auth\n",
        "from oauth2client.client import GoogleCredentials\n",
        "from google.colab import drive\n",
        "from textblob import TextBlob\n",
        "\n",
        "import textblob\n",
        "drive.mount('/content/drive')\n"
      ]
    },
    {
      "cell_type": "code",
      "execution_count": 2,
      "metadata": {
        "id": "OlU4pCRF_Y6f"
      },
      "outputs": [],
      "source": [
        "#Librería para el manejo de directorio y archivos\n",
        "import glob\n",
        "import random, os, sys\n",
        "import ntpath\n",
        "import warnings\n",
        "warnings.filterwarnings('ignore')\n",
        "\n",
        "# Librería para el manejo de datos\n",
        "import pandas as pd\n",
        "import numpy as np\n",
        "\n",
        "#Gráfico de datos\n",
        "import matplotlib.pyplot as plt\n",
        "import seaborn as sn"
      ]
    },
    {
      "cell_type": "code",
      "execution_count": 3,
      "metadata": {
        "colab": {
          "base_uri": "https://localhost:8080/"
        },
        "id": "VSLJYioSBXZS",
        "outputId": "c2e46295-6268-4b90-b586-a9669ee73af6"
      },
      "outputs": [],
      "source": [
        "## Modelo de CNN+LSTM\n",
        "# import models\n",
        "\n",
        "## Otros clasificadores\n",
        "from sklearn.ensemble import RandomForestClassifier\n",
        "from sklearn.metrics import classification_report\n",
        "from sklearn.discriminant_analysis import LinearDiscriminantAnalysis\n",
        "from sklearn.discriminant_analysis import QuadraticDiscriminantAnalysis\n",
        "from sklearn.tree import DecisionTreeClassifier\n",
        "from sklearn.neighbors import KNeighborsClassifier\n",
        "from sklearn.ensemble import RandomForestClassifier, AdaBoostClassifier, GradientBoostingClassifier\n",
        "from sklearn.naive_bayes import GaussianNB\n",
        "from sklearn.svm import SVC\n",
        "## Includes\n",
        "from sklearn.ensemble import RandomForestClassifier\n",
        "from sklearn.metrics import accuracy_score\n",
        "from sklearn.metrics import confusion_matrix\n",
        "from sklearn.metrics import classification_report\n",
        "from sklearn.pipeline import make_pipeline\n",
        "from sklearn.preprocessing import FunctionTransformer\n",
        "\n",
        "\n",
        "## Train Test Split\n",
        "from sklearn.model_selection import train_test_split\n",
        "from sklearn.feature_selection import RFE\n",
        "from sklearn.neighbors import KNeighborsClassifier\n",
        "from sklearn import metrics\n",
        "\n",
        "## Métricas\n",
        "from sklearn.metrics import make_scorer, f1_score, accuracy_score, classification_report, log_loss\n",
        "from sklearn.metrics import roc_auc_score, confusion_matrix, roc_auc_score, roc_curve\n",
        "from sklearn.model_selection import KFold\n",
        "from sklearn.model_selection import cross_val_score\n",
        "from numpy import mean\n",
        "from numpy import std\n",
        "\n",
        "## Over sampling\n",
        "from imblearn.over_sampling import SMOTE\n",
        "from imblearn.under_sampling import RandomUnderSampler\n",
        "from imblearn.over_sampling import ADASYN\n",
        "\n",
        "from collections import Counter\n",
        "\n",
        "# Parallel Jobs\n",
        "\n",
        "import joblib\n",
        "from joblib import dump, load"
      ]
    },
    {
      "cell_type": "markdown",
      "metadata": {
        "id": "TolzDhtoAaaI"
      },
      "source": [
        "## Lectura de datos"
      ]
    },
    {
      "cell_type": "code",
      "execution_count": 4,
      "metadata": {
        "colab": {
          "base_uri": "https://localhost:8080/",
          "height": 417
        },
        "id": "Y2TqCz5Y_MGR",
        "outputId": "474b1877-4f77-44bd-f494-d6a212d2a355"
      },
      "outputs": [
        {
          "data": {
            "text/html": [
              "<div>\n",
              "<style scoped>\n",
              "    .dataframe tbody tr th:only-of-type {\n",
              "        vertical-align: middle;\n",
              "    }\n",
              "\n",
              "    .dataframe tbody tr th {\n",
              "        vertical-align: top;\n",
              "    }\n",
              "\n",
              "    .dataframe thead th {\n",
              "        text-align: right;\n",
              "    }\n",
              "</style>\n",
              "<table border=\"1\" class=\"dataframe\">\n",
              "  <thead>\n",
              "    <tr style=\"text-align: right;\">\n",
              "      <th></th>\n",
              "      <th>epoch</th>\n",
              "      <th>condition</th>\n",
              "      <th>DFA</th>\n",
              "      <th>Hurst Exponent</th>\n",
              "      <th>HFF</th>\n",
              "      <th>Fisher Info</th>\n",
              "      <th>SVD Entropy</th>\n",
              "      <th>PSD</th>\n",
              "      <th>PFD</th>\n",
              "      <th>Hjorth</th>\n",
              "    </tr>\n",
              "  </thead>\n",
              "  <tbody>\n",
              "    <tr>\n",
              "      <th>0</th>\n",
              "      <td>0</td>\n",
              "      <td>Sleep stage W</td>\n",
              "      <td>0.837485</td>\n",
              "      <td>0.400955</td>\n",
              "      <td>0.658111</td>\n",
              "      <td>2.041313</td>\n",
              "      <td>2.041313</td>\n",
              "      <td>(array([323795.99695792,  95106.76188001,  577...</td>\n",
              "      <td>0.550561</td>\n",
              "      <td>(0.006943341407304602, 231.09225093269163)</td>\n",
              "    </tr>\n",
              "    <tr>\n",
              "      <th>1</th>\n",
              "      <td>1</td>\n",
              "      <td>Sleep stage W</td>\n",
              "      <td>0.998604</td>\n",
              "      <td>0.430684</td>\n",
              "      <td>0.646741</td>\n",
              "      <td>1.983289</td>\n",
              "      <td>1.983289</td>\n",
              "      <td>(array([392143.14146414, 110272.8196683 ,  606...</td>\n",
              "      <td>0.549353</td>\n",
              "      <td>(0.005894518787862921, 270.7564541726673)</td>\n",
              "    </tr>\n",
              "    <tr>\n",
              "      <th>2</th>\n",
              "      <td>2</td>\n",
              "      <td>Sleep stage W</td>\n",
              "      <td>0.897386</td>\n",
              "      <td>0.465226</td>\n",
              "      <td>0.464066</td>\n",
              "      <td>1.928401</td>\n",
              "      <td>1.928401</td>\n",
              "      <td>(array([483994.10157561, 128847.0274195 ,  628...</td>\n",
              "      <td>0.555576</td>\n",
              "      <td>(0.004584420837369226, 328.7663937035511)</td>\n",
              "    </tr>\n",
              "    <tr>\n",
              "      <th>3</th>\n",
              "      <td>3</td>\n",
              "      <td>Sleep stage W</td>\n",
              "      <td>0.890133</td>\n",
              "      <td>0.393192</td>\n",
              "      <td>0.652857</td>\n",
              "      <td>2.025418</td>\n",
              "      <td>2.025418</td>\n",
              "      <td>(array([423796.5413977 , 112940.25357168,  671...</td>\n",
              "      <td>0.549887</td>\n",
              "      <td>(0.006978667292068013, 232.3983769951106)</td>\n",
              "    </tr>\n",
              "    <tr>\n",
              "      <th>4</th>\n",
              "      <td>4</td>\n",
              "      <td>Sleep stage W</td>\n",
              "      <td>1.024876</td>\n",
              "      <td>0.615532</td>\n",
              "      <td>0.630969</td>\n",
              "      <td>1.966106</td>\n",
              "      <td>1.966106</td>\n",
              "      <td>(array([401737.29188169, 103449.05468694,  707...</td>\n",
              "      <td>0.550386</td>\n",
              "      <td>(0.005744621959527253, 279.12813226835925)</td>\n",
              "    </tr>\n",
              "    <tr>\n",
              "      <th>...</th>\n",
              "      <td>...</td>\n",
              "      <td>...</td>\n",
              "      <td>...</td>\n",
              "      <td>...</td>\n",
              "      <td>...</td>\n",
              "      <td>...</td>\n",
              "      <td>...</td>\n",
              "      <td>...</td>\n",
              "      <td>...</td>\n",
              "      <td>...</td>\n",
              "    </tr>\n",
              "    <tr>\n",
              "      <th>84307</th>\n",
              "      <td>879</td>\n",
              "      <td>Sleep stage W</td>\n",
              "      <td>0.955407</td>\n",
              "      <td>0.687106</td>\n",
              "      <td>0.601224</td>\n",
              "      <td>1.959786</td>\n",
              "      <td>1.959786</td>\n",
              "      <td>(array([573454.48566983, 130816.5279916 ,  884...</td>\n",
              "      <td>0.555781</td>\n",
              "      <td>(0.006626887963179141, 251.16747537039464)</td>\n",
              "    </tr>\n",
              "    <tr>\n",
              "      <th>84308</th>\n",
              "      <td>880</td>\n",
              "      <td>Sleep stage W</td>\n",
              "      <td>0.953700</td>\n",
              "      <td>0.528094</td>\n",
              "      <td>0.509663</td>\n",
              "      <td>1.920730</td>\n",
              "      <td>1.920730</td>\n",
              "      <td>(array([690929.53021755, 136638.86420592, 1035...</td>\n",
              "      <td>0.558980</td>\n",
              "      <td>(0.0052168959877767805, 301.2904203684975)</td>\n",
              "    </tr>\n",
              "    <tr>\n",
              "      <th>84309</th>\n",
              "      <td>881</td>\n",
              "      <td>Sleep stage W</td>\n",
              "      <td>1.091841</td>\n",
              "      <td>0.550011</td>\n",
              "      <td>0.554545</td>\n",
              "      <td>1.858709</td>\n",
              "      <td>1.858709</td>\n",
              "      <td>(array([561455.25609375, 102920.77964855,  843...</td>\n",
              "      <td>0.557062</td>\n",
              "      <td>(0.004440653148720743, 350.2606857634488)</td>\n",
              "    </tr>\n",
              "    <tr>\n",
              "      <th>84310</th>\n",
              "      <td>882</td>\n",
              "      <td>Sleep stage W</td>\n",
              "      <td>1.059512</td>\n",
              "      <td>0.717801</td>\n",
              "      <td>0.511750</td>\n",
              "      <td>1.888685</td>\n",
              "      <td>1.888685</td>\n",
              "      <td>(array([555710.68851866, 120112.08409237,  917...</td>\n",
              "      <td>0.556876</td>\n",
              "      <td>(0.004237847194728936, 350.8208114356323)</td>\n",
              "    </tr>\n",
              "    <tr>\n",
              "      <th>84311</th>\n",
              "      <td>883</td>\n",
              "      <td>Sleep stage W</td>\n",
              "      <td>1.227888</td>\n",
              "      <td>0.678792</td>\n",
              "      <td>0.540483</td>\n",
              "      <td>1.898164</td>\n",
              "      <td>1.898164</td>\n",
              "      <td>(array([613551.60859424, 125993.98016222, 1027...</td>\n",
              "      <td>0.558671</td>\n",
              "      <td>(0.005458558329896684, 302.03565785778767)</td>\n",
              "    </tr>\n",
              "  </tbody>\n",
              "</table>\n",
              "<p>84312 rows × 10 columns</p>\n",
              "</div>"
            ],
            "text/plain": [
              "       epoch      condition       DFA  Hurst Exponent       HFF  Fisher Info  \\\n",
              "0          0  Sleep stage W  0.837485        0.400955  0.658111     2.041313   \n",
              "1          1  Sleep stage W  0.998604        0.430684  0.646741     1.983289   \n",
              "2          2  Sleep stage W  0.897386        0.465226  0.464066     1.928401   \n",
              "3          3  Sleep stage W  0.890133        0.393192  0.652857     2.025418   \n",
              "4          4  Sleep stage W  1.024876        0.615532  0.630969     1.966106   \n",
              "...      ...            ...       ...             ...       ...          ...   \n",
              "84307    879  Sleep stage W  0.955407        0.687106  0.601224     1.959786   \n",
              "84308    880  Sleep stage W  0.953700        0.528094  0.509663     1.920730   \n",
              "84309    881  Sleep stage W  1.091841        0.550011  0.554545     1.858709   \n",
              "84310    882  Sleep stage W  1.059512        0.717801  0.511750     1.888685   \n",
              "84311    883  Sleep stage W  1.227888        0.678792  0.540483     1.898164   \n",
              "\n",
              "       SVD Entropy                                                PSD  \\\n",
              "0         2.041313  (array([323795.99695792,  95106.76188001,  577...   \n",
              "1         1.983289  (array([392143.14146414, 110272.8196683 ,  606...   \n",
              "2         1.928401  (array([483994.10157561, 128847.0274195 ,  628...   \n",
              "3         2.025418  (array([423796.5413977 , 112940.25357168,  671...   \n",
              "4         1.966106  (array([401737.29188169, 103449.05468694,  707...   \n",
              "...            ...                                                ...   \n",
              "84307     1.959786  (array([573454.48566983, 130816.5279916 ,  884...   \n",
              "84308     1.920730  (array([690929.53021755, 136638.86420592, 1035...   \n",
              "84309     1.858709  (array([561455.25609375, 102920.77964855,  843...   \n",
              "84310     1.888685  (array([555710.68851866, 120112.08409237,  917...   \n",
              "84311     1.898164  (array([613551.60859424, 125993.98016222, 1027...   \n",
              "\n",
              "            PFD                                      Hjorth  \n",
              "0      0.550561  (0.006943341407304602, 231.09225093269163)  \n",
              "1      0.549353   (0.005894518787862921, 270.7564541726673)  \n",
              "2      0.555576   (0.004584420837369226, 328.7663937035511)  \n",
              "3      0.549887   (0.006978667292068013, 232.3983769951106)  \n",
              "4      0.550386  (0.005744621959527253, 279.12813226835925)  \n",
              "...         ...                                         ...  \n",
              "84307  0.555781  (0.006626887963179141, 251.16747537039464)  \n",
              "84308  0.558980  (0.0052168959877767805, 301.2904203684975)  \n",
              "84309  0.557062   (0.004440653148720743, 350.2606857634488)  \n",
              "84310  0.556876   (0.004237847194728936, 350.8208114356323)  \n",
              "84311  0.558671  (0.005458558329896684, 302.03565785778767)  \n",
              "\n",
              "[84312 rows x 10 columns]"
            ]
          },
          "execution_count": 4,
          "metadata": {},
          "output_type": "execute_result"
        }
      ],
      "source": [
        "# Recolección de datos de fase anterior\n",
        "project_path = os.path.abspath(os.getcwd()) \n",
        "df=pd.read_excel(project_path+'/Data_final.xlsx')\n",
        "df=pd.concat([df,pd.read_excel(project_path+'/Data_final2.xlsx')],ignore_index=True)\n",
        "df"
      ]
    },
    {
      "cell_type": "markdown",
      "metadata": {
        "id": "gpSeI-zBAnMT"
      },
      "source": [
        "## Separación de features"
      ]
    },
    {
      "cell_type": "code",
      "execution_count": 5,
      "metadata": {
        "id": "26Y30WgPC5Br"
      },
      "outputs": [],
      "source": [
        "df[['Power Delta','Power Theta','Power Alpha','Power Beta',\n",
        "   'Power Delta Normalized','Power Theta Normalized','Power Alpha Normalized','Power Beta Normalized']]      =    df.PSD.str.split(',',expand=True)\n",
        "df.drop('PSD',inplace=True,axis=1)"
      ]
    },
    {
      "cell_type": "code",
      "execution_count": 6,
      "metadata": {
        "colab": {
          "base_uri": "https://localhost:8080/",
          "height": 638
        },
        "id": "gpts85oMAlj1",
        "outputId": "e2c8dded-3922-4d6f-81b9-31b234e5b4ae"
      },
      "outputs": [
        {
          "data": {
            "text/html": [
              "<div>\n",
              "<style scoped>\n",
              "    .dataframe tbody tr th:only-of-type {\n",
              "        vertical-align: middle;\n",
              "    }\n",
              "\n",
              "    .dataframe tbody tr th {\n",
              "        vertical-align: top;\n",
              "    }\n",
              "\n",
              "    .dataframe thead th {\n",
              "        text-align: right;\n",
              "    }\n",
              "</style>\n",
              "<table border=\"1\" class=\"dataframe\">\n",
              "  <thead>\n",
              "    <tr style=\"text-align: right;\">\n",
              "      <th></th>\n",
              "      <th>epoch</th>\n",
              "      <th>condition</th>\n",
              "      <th>DFA</th>\n",
              "      <th>Hurst Exponent</th>\n",
              "      <th>HFF</th>\n",
              "      <th>Fisher Info</th>\n",
              "      <th>SVD Entropy</th>\n",
              "      <th>PFD</th>\n",
              "      <th>Power Delta</th>\n",
              "      <th>Power Theta</th>\n",
              "      <th>Power Alpha</th>\n",
              "      <th>Power Beta</th>\n",
              "      <th>Power Delta Normalized</th>\n",
              "      <th>Power Theta Normalized</th>\n",
              "      <th>Power Alpha Normalized</th>\n",
              "      <th>Power Beta Normalized</th>\n",
              "      <th>Hjorth Mobility</th>\n",
              "      <th>Hjorth Complexity</th>\n",
              "    </tr>\n",
              "  </thead>\n",
              "  <tbody>\n",
              "    <tr>\n",
              "      <th>0</th>\n",
              "      <td>0</td>\n",
              "      <td>Sleep stage W</td>\n",
              "      <td>0.837485</td>\n",
              "      <td>0.400955</td>\n",
              "      <td>0.658111</td>\n",
              "      <td>2.041313</td>\n",
              "      <td>2.041313</td>\n",
              "      <td>0.550561</td>\n",
              "      <td>323795.996958</td>\n",
              "      <td>95106.76188001</td>\n",
              "      <td>57775.40616709</td>\n",
              "      <td>147590.522157</td>\n",
              "      <td>0.518680</td>\n",
              "      <td>0.15234908</td>\n",
              "      <td>0.09254894</td>\n",
              "      <td>0.236421</td>\n",
              "      <td>0.006943</td>\n",
              "      <td>231.092251</td>\n",
              "    </tr>\n",
              "    <tr>\n",
              "      <th>1</th>\n",
              "      <td>1</td>\n",
              "      <td>Sleep stage W</td>\n",
              "      <td>0.998604</td>\n",
              "      <td>0.430684</td>\n",
              "      <td>0.646741</td>\n",
              "      <td>1.983289</td>\n",
              "      <td>1.983289</td>\n",
              "      <td>0.549353</td>\n",
              "      <td>392143.141464</td>\n",
              "      <td>110272.8196683</td>\n",
              "      <td>60610.58585452</td>\n",
              "      <td>147630.579355</td>\n",
              "      <td>0.551804</td>\n",
              "      <td>0.15517022</td>\n",
              "      <td>0.08528809</td>\n",
              "      <td>0.207738</td>\n",
              "      <td>0.005895</td>\n",
              "      <td>270.756454</td>\n",
              "    </tr>\n",
              "    <tr>\n",
              "      <th>2</th>\n",
              "      <td>2</td>\n",
              "      <td>Sleep stage W</td>\n",
              "      <td>0.897386</td>\n",
              "      <td>0.465226</td>\n",
              "      <td>0.464066</td>\n",
              "      <td>1.928401</td>\n",
              "      <td>1.928401</td>\n",
              "      <td>0.555576</td>\n",
              "      <td>483994.101576</td>\n",
              "      <td>128847.0274195</td>\n",
              "      <td>62851.20521658</td>\n",
              "      <td>131960.880380</td>\n",
              "      <td>0.599260</td>\n",
              "      <td>0.15953261</td>\n",
              "      <td>0.07781954</td>\n",
              "      <td>0.163388</td>\n",
              "      <td>0.004584</td>\n",
              "      <td>328.766394</td>\n",
              "    </tr>\n",
              "    <tr>\n",
              "      <th>3</th>\n",
              "      <td>3</td>\n",
              "      <td>Sleep stage W</td>\n",
              "      <td>0.890133</td>\n",
              "      <td>0.393192</td>\n",
              "      <td>0.652857</td>\n",
              "      <td>2.025418</td>\n",
              "      <td>2.025418</td>\n",
              "      <td>0.549887</td>\n",
              "      <td>423796.541398</td>\n",
              "      <td>112940.25357168</td>\n",
              "      <td>67194.8481331</td>\n",
              "      <td>181349.309617</td>\n",
              "      <td>0.539675</td>\n",
              "      <td>0.14382146</td>\n",
              "      <td>0.08556791</td>\n",
              "      <td>0.230936</td>\n",
              "      <td>0.006979</td>\n",
              "      <td>232.398377</td>\n",
              "    </tr>\n",
              "    <tr>\n",
              "      <th>4</th>\n",
              "      <td>4</td>\n",
              "      <td>Sleep stage W</td>\n",
              "      <td>1.024876</td>\n",
              "      <td>0.615532</td>\n",
              "      <td>0.630969</td>\n",
              "      <td>1.966106</td>\n",
              "      <td>1.966106</td>\n",
              "      <td>0.550386</td>\n",
              "      <td>401737.291882</td>\n",
              "      <td>103449.05468694</td>\n",
              "      <td>70702.95559783</td>\n",
              "      <td>159968.475115</td>\n",
              "      <td>0.545944</td>\n",
              "      <td>0.14058295</td>\n",
              "      <td>0.09608237</td>\n",
              "      <td>0.217390</td>\n",
              "      <td>0.005745</td>\n",
              "      <td>279.128132</td>\n",
              "    </tr>\n",
              "    <tr>\n",
              "      <th>...</th>\n",
              "      <td>...</td>\n",
              "      <td>...</td>\n",
              "      <td>...</td>\n",
              "      <td>...</td>\n",
              "      <td>...</td>\n",
              "      <td>...</td>\n",
              "      <td>...</td>\n",
              "      <td>...</td>\n",
              "      <td>...</td>\n",
              "      <td>...</td>\n",
              "      <td>...</td>\n",
              "      <td>...</td>\n",
              "      <td>...</td>\n",
              "      <td>...</td>\n",
              "      <td>...</td>\n",
              "      <td>...</td>\n",
              "      <td>...</td>\n",
              "      <td>...</td>\n",
              "    </tr>\n",
              "    <tr>\n",
              "      <th>84307</th>\n",
              "      <td>879</td>\n",
              "      <td>Sleep stage W</td>\n",
              "      <td>0.955407</td>\n",
              "      <td>0.687106</td>\n",
              "      <td>0.601224</td>\n",
              "      <td>1.959786</td>\n",
              "      <td>1.959786</td>\n",
              "      <td>0.555781</td>\n",
              "      <td>573454.485670</td>\n",
              "      <td>130816.5279916</td>\n",
              "      <td>88410.62364784</td>\n",
              "      <td>276106.602930</td>\n",
              "      <td>0.536546</td>\n",
              "      <td>0.12239705</td>\n",
              "      <td>0.08272043</td>\n",
              "      <td>0.258336</td>\n",
              "      <td>0.006627</td>\n",
              "      <td>251.167475</td>\n",
              "    </tr>\n",
              "    <tr>\n",
              "      <th>84308</th>\n",
              "      <td>880</td>\n",
              "      <td>Sleep stage W</td>\n",
              "      <td>0.953700</td>\n",
              "      <td>0.528094</td>\n",
              "      <td>0.509663</td>\n",
              "      <td>1.920730</td>\n",
              "      <td>1.920730</td>\n",
              "      <td>0.558980</td>\n",
              "      <td>690929.530218</td>\n",
              "      <td>136638.86420592</td>\n",
              "      <td>103589.53405265</td>\n",
              "      <td>256077.099645</td>\n",
              "      <td>0.581965</td>\n",
              "      <td>0.11508999</td>\n",
              "      <td>0.08725276</td>\n",
              "      <td>0.215692</td>\n",
              "      <td>0.005217</td>\n",
              "      <td>301.290420</td>\n",
              "    </tr>\n",
              "    <tr>\n",
              "      <th>84309</th>\n",
              "      <td>881</td>\n",
              "      <td>Sleep stage W</td>\n",
              "      <td>1.091841</td>\n",
              "      <td>0.550011</td>\n",
              "      <td>0.554545</td>\n",
              "      <td>1.858709</td>\n",
              "      <td>1.858709</td>\n",
              "      <td>0.557062</td>\n",
              "      <td>561455.256094</td>\n",
              "      <td>102920.77964855</td>\n",
              "      <td>84385.11214613</td>\n",
              "      <td>201981.698371</td>\n",
              "      <td>0.590544</td>\n",
              "      <td>0.10825302</td>\n",
              "      <td>0.08875703</td>\n",
              "      <td>0.212446</td>\n",
              "      <td>0.004441</td>\n",
              "      <td>350.260686</td>\n",
              "    </tr>\n",
              "    <tr>\n",
              "      <th>84310</th>\n",
              "      <td>882</td>\n",
              "      <td>Sleep stage W</td>\n",
              "      <td>1.059512</td>\n",
              "      <td>0.717801</td>\n",
              "      <td>0.511750</td>\n",
              "      <td>1.888685</td>\n",
              "      <td>1.888685</td>\n",
              "      <td>0.556876</td>\n",
              "      <td>555710.688519</td>\n",
              "      <td>120112.08409237</td>\n",
              "      <td>91701.47751394</td>\n",
              "      <td>180109.745871</td>\n",
              "      <td>0.586419</td>\n",
              "      <td>0.12674945</td>\n",
              "      <td>0.09676888</td>\n",
              "      <td>0.190063</td>\n",
              "      <td>0.004238</td>\n",
              "      <td>350.820811</td>\n",
              "    </tr>\n",
              "    <tr>\n",
              "      <th>84311</th>\n",
              "      <td>883</td>\n",
              "      <td>Sleep stage W</td>\n",
              "      <td>1.227888</td>\n",
              "      <td>0.678792</td>\n",
              "      <td>0.540483</td>\n",
              "      <td>1.898164</td>\n",
              "      <td>1.898164</td>\n",
              "      <td>0.558671</td>\n",
              "      <td>613551.608594</td>\n",
              "      <td>125993.98016222</td>\n",
              "      <td>102750.67771414</td>\n",
              "      <td>250834.424725</td>\n",
              "      <td>0.561279</td>\n",
              "      <td>0.11525976</td>\n",
              "      <td>0.0939967</td>\n",
              "      <td>0.229464</td>\n",
              "      <td>0.005459</td>\n",
              "      <td>302.035658</td>\n",
              "    </tr>\n",
              "  </tbody>\n",
              "</table>\n",
              "<p>84312 rows × 18 columns</p>\n",
              "</div>"
            ],
            "text/plain": [
              "       epoch      condition       DFA  Hurst Exponent       HFF  Fisher Info  \\\n",
              "0          0  Sleep stage W  0.837485        0.400955  0.658111     2.041313   \n",
              "1          1  Sleep stage W  0.998604        0.430684  0.646741     1.983289   \n",
              "2          2  Sleep stage W  0.897386        0.465226  0.464066     1.928401   \n",
              "3          3  Sleep stage W  0.890133        0.393192  0.652857     2.025418   \n",
              "4          4  Sleep stage W  1.024876        0.615532  0.630969     1.966106   \n",
              "...      ...            ...       ...             ...       ...          ...   \n",
              "84307    879  Sleep stage W  0.955407        0.687106  0.601224     1.959786   \n",
              "84308    880  Sleep stage W  0.953700        0.528094  0.509663     1.920730   \n",
              "84309    881  Sleep stage W  1.091841        0.550011  0.554545     1.858709   \n",
              "84310    882  Sleep stage W  1.059512        0.717801  0.511750     1.888685   \n",
              "84311    883  Sleep stage W  1.227888        0.678792  0.540483     1.898164   \n",
              "\n",
              "       SVD Entropy       PFD    Power Delta       Power Theta  \\\n",
              "0         2.041313  0.550561  323795.996958    95106.76188001   \n",
              "1         1.983289  0.549353  392143.141464   110272.8196683    \n",
              "2         1.928401  0.555576  483994.101576   128847.0274195    \n",
              "3         2.025418  0.549887  423796.541398   112940.25357168   \n",
              "4         1.966106  0.550386  401737.291882   103449.05468694   \n",
              "...            ...       ...            ...               ...   \n",
              "84307     1.959786  0.555781  573454.485670   130816.5279916    \n",
              "84308     1.920730  0.558980  690929.530218   136638.86420592   \n",
              "84309     1.858709  0.557062  561455.256094   102920.77964855   \n",
              "84310     1.888685  0.556876  555710.688519   120112.08409237   \n",
              "84311     1.898164  0.558671  613551.608594   125993.98016222   \n",
              "\n",
              "            Power Alpha     Power Beta  Power Delta Normalized  \\\n",
              "0        57775.40616709  147590.522157                0.518680   \n",
              "1        60610.58585452  147630.579355                0.551804   \n",
              "2        62851.20521658  131960.880380                0.599260   \n",
              "3        67194.8481331   181349.309617                0.539675   \n",
              "4        70702.95559783  159968.475115                0.545944   \n",
              "...                 ...            ...                     ...   \n",
              "84307    88410.62364784  276106.602930                0.536546   \n",
              "84308   103589.53405265  256077.099645                0.581965   \n",
              "84309    84385.11214613  201981.698371                0.590544   \n",
              "84310    91701.47751394  180109.745871                0.586419   \n",
              "84311   102750.67771414  250834.424725                0.561279   \n",
              "\n",
              "      Power Theta Normalized Power Alpha Normalized  Power Beta Normalized  \\\n",
              "0                 0.15234908             0.09254894               0.236421   \n",
              "1                 0.15517022             0.08528809               0.207738   \n",
              "2                 0.15953261             0.07781954               0.163388   \n",
              "3                 0.14382146             0.08556791               0.230936   \n",
              "4                 0.14058295             0.09608237               0.217390   \n",
              "...                      ...                    ...                    ...   \n",
              "84307             0.12239705             0.08272043               0.258336   \n",
              "84308             0.11508999             0.08725276               0.215692   \n",
              "84309             0.10825302             0.08875703               0.212446   \n",
              "84310             0.12674945             0.09676888               0.190063   \n",
              "84311             0.11525976             0.0939967                0.229464   \n",
              "\n",
              "       Hjorth Mobility  Hjorth Complexity  \n",
              "0             0.006943         231.092251  \n",
              "1             0.005895         270.756454  \n",
              "2             0.004584         328.766394  \n",
              "3             0.006979         232.398377  \n",
              "4             0.005745         279.128132  \n",
              "...                ...                ...  \n",
              "84307         0.006627         251.167475  \n",
              "84308         0.005217         301.290420  \n",
              "84309         0.004441         350.260686  \n",
              "84310         0.004238         350.820811  \n",
              "84311         0.005459         302.035658  \n",
              "\n",
              "[84312 rows x 18 columns]"
            ]
          },
          "execution_count": 6,
          "metadata": {},
          "output_type": "execute_result"
        }
      ],
      "source": [
        "df['Power Delta']=df['Power Delta'].str.strip()\n",
        "df['Power Delta Normalized']=df['Power Delta Normalized'].str.strip()\n",
        "df['Power Beta']=df['Power Beta'].str.strip()\n",
        "df['Power Beta Normalized']=df['Power Beta Normalized'].str.strip()\n",
        "\n",
        "df['Power Delta']=df['Power Delta'].str.replace(\"(array([\",'')\n",
        "df['Power Delta Normalized']=df['Power Delta Normalized'].str.replace(\"array([\",'')\n",
        "\n",
        "df['Power Beta']=df['Power Beta'].str.replace('])','')\n",
        "df['Power Beta Normalized']=df['Power Beta Normalized'].str.replace(']))','')\n",
        "\n",
        "df['Power Delta']=df['Power Delta'].astype(float)\n",
        "df['Power Delta Normalized']=df['Power Delta Normalized'].astype(float)\n",
        "df['Power Beta']=df['Power Beta'].astype(float)\n",
        "df['Power Beta Normalized']=df['Power Beta Normalized'].astype(float)\n",
        "\n",
        "df[['Hjorth Mobility','Hjorth Complexity']]      =    df.Hjorth.str.split(',',expand=True)\n",
        "\n",
        "df['Hjorth Mobility']=df['Hjorth Mobility'].str.replace(\"(\",'')\n",
        "df['Hjorth Complexity']=df['Hjorth Complexity'].str.replace(\")\",'')\n",
        "\n",
        "\n",
        "df['Hjorth Mobility']=df['Hjorth Mobility'].astype(float)\n",
        "df['Hjorth Complexity']=df['Hjorth Complexity'].astype(float)\n",
        "\n",
        "df.drop(['Hjorth'],inplace=True,axis=1)\n",
        "\n",
        "df"
      ]
    },
    {
      "cell_type": "markdown",
      "metadata": {
        "id": "CLdZLhwSGOdx"
      },
      "source": [
        "## Mapeo de clases"
      ]
    },
    {
      "cell_type": "code",
      "execution_count": 7,
      "metadata": {
        "colab": {
          "base_uri": "https://localhost:8080/",
          "height": 470
        },
        "id": "Dl0KQULRAlbG",
        "outputId": "51940de7-357c-4835-9a25-2b3a608b7f86"
      },
      "outputs": [
        {
          "data": {
            "text/html": [
              "<div>\n",
              "<style scoped>\n",
              "    .dataframe tbody tr th:only-of-type {\n",
              "        vertical-align: middle;\n",
              "    }\n",
              "\n",
              "    .dataframe tbody tr th {\n",
              "        vertical-align: top;\n",
              "    }\n",
              "\n",
              "    .dataframe thead th {\n",
              "        text-align: right;\n",
              "    }\n",
              "</style>\n",
              "<table border=\"1\" class=\"dataframe\">\n",
              "  <thead>\n",
              "    <tr style=\"text-align: right;\">\n",
              "      <th></th>\n",
              "      <th>epoch</th>\n",
              "      <th>condition</th>\n",
              "      <th>DFA</th>\n",
              "      <th>Hurst Exponent</th>\n",
              "      <th>HFF</th>\n",
              "      <th>Fisher Info</th>\n",
              "      <th>SVD Entropy</th>\n",
              "      <th>PFD</th>\n",
              "      <th>Power Delta</th>\n",
              "      <th>Power Theta</th>\n",
              "      <th>Power Alpha</th>\n",
              "      <th>Power Beta</th>\n",
              "      <th>Power Delta Normalized</th>\n",
              "      <th>Power Theta Normalized</th>\n",
              "      <th>Power Alpha Normalized</th>\n",
              "      <th>Power Beta Normalized</th>\n",
              "      <th>Hjorth Mobility</th>\n",
              "      <th>Hjorth Complexity</th>\n",
              "    </tr>\n",
              "  </thead>\n",
              "  <tbody>\n",
              "    <tr>\n",
              "      <th>0</th>\n",
              "      <td>0</td>\n",
              "      <td>1</td>\n",
              "      <td>0.837485</td>\n",
              "      <td>0.400955</td>\n",
              "      <td>0.658111</td>\n",
              "      <td>2.041313</td>\n",
              "      <td>2.041313</td>\n",
              "      <td>0.550561</td>\n",
              "      <td>323795.996958</td>\n",
              "      <td>95106.76188001</td>\n",
              "      <td>57775.40616709</td>\n",
              "      <td>147590.522157</td>\n",
              "      <td>0.518680</td>\n",
              "      <td>0.15234908</td>\n",
              "      <td>0.09254894</td>\n",
              "      <td>0.236421</td>\n",
              "      <td>0.006943</td>\n",
              "      <td>231.092251</td>\n",
              "    </tr>\n",
              "    <tr>\n",
              "      <th>1</th>\n",
              "      <td>1</td>\n",
              "      <td>1</td>\n",
              "      <td>0.998604</td>\n",
              "      <td>0.430684</td>\n",
              "      <td>0.646741</td>\n",
              "      <td>1.983289</td>\n",
              "      <td>1.983289</td>\n",
              "      <td>0.549353</td>\n",
              "      <td>392143.141464</td>\n",
              "      <td>110272.8196683</td>\n",
              "      <td>60610.58585452</td>\n",
              "      <td>147630.579355</td>\n",
              "      <td>0.551804</td>\n",
              "      <td>0.15517022</td>\n",
              "      <td>0.08528809</td>\n",
              "      <td>0.207738</td>\n",
              "      <td>0.005895</td>\n",
              "      <td>270.756454</td>\n",
              "    </tr>\n",
              "    <tr>\n",
              "      <th>2</th>\n",
              "      <td>2</td>\n",
              "      <td>1</td>\n",
              "      <td>0.897386</td>\n",
              "      <td>0.465226</td>\n",
              "      <td>0.464066</td>\n",
              "      <td>1.928401</td>\n",
              "      <td>1.928401</td>\n",
              "      <td>0.555576</td>\n",
              "      <td>483994.101576</td>\n",
              "      <td>128847.0274195</td>\n",
              "      <td>62851.20521658</td>\n",
              "      <td>131960.880380</td>\n",
              "      <td>0.599260</td>\n",
              "      <td>0.15953261</td>\n",
              "      <td>0.07781954</td>\n",
              "      <td>0.163388</td>\n",
              "      <td>0.004584</td>\n",
              "      <td>328.766394</td>\n",
              "    </tr>\n",
              "    <tr>\n",
              "      <th>3</th>\n",
              "      <td>3</td>\n",
              "      <td>1</td>\n",
              "      <td>0.890133</td>\n",
              "      <td>0.393192</td>\n",
              "      <td>0.652857</td>\n",
              "      <td>2.025418</td>\n",
              "      <td>2.025418</td>\n",
              "      <td>0.549887</td>\n",
              "      <td>423796.541398</td>\n",
              "      <td>112940.25357168</td>\n",
              "      <td>67194.8481331</td>\n",
              "      <td>181349.309617</td>\n",
              "      <td>0.539675</td>\n",
              "      <td>0.14382146</td>\n",
              "      <td>0.08556791</td>\n",
              "      <td>0.230936</td>\n",
              "      <td>0.006979</td>\n",
              "      <td>232.398377</td>\n",
              "    </tr>\n",
              "    <tr>\n",
              "      <th>4</th>\n",
              "      <td>4</td>\n",
              "      <td>1</td>\n",
              "      <td>1.024876</td>\n",
              "      <td>0.615532</td>\n",
              "      <td>0.630969</td>\n",
              "      <td>1.966106</td>\n",
              "      <td>1.966106</td>\n",
              "      <td>0.550386</td>\n",
              "      <td>401737.291882</td>\n",
              "      <td>103449.05468694</td>\n",
              "      <td>70702.95559783</td>\n",
              "      <td>159968.475115</td>\n",
              "      <td>0.545944</td>\n",
              "      <td>0.14058295</td>\n",
              "      <td>0.09608237</td>\n",
              "      <td>0.217390</td>\n",
              "      <td>0.005745</td>\n",
              "      <td>279.128132</td>\n",
              "    </tr>\n",
              "    <tr>\n",
              "      <th>...</th>\n",
              "      <td>...</td>\n",
              "      <td>...</td>\n",
              "      <td>...</td>\n",
              "      <td>...</td>\n",
              "      <td>...</td>\n",
              "      <td>...</td>\n",
              "      <td>...</td>\n",
              "      <td>...</td>\n",
              "      <td>...</td>\n",
              "      <td>...</td>\n",
              "      <td>...</td>\n",
              "      <td>...</td>\n",
              "      <td>...</td>\n",
              "      <td>...</td>\n",
              "      <td>...</td>\n",
              "      <td>...</td>\n",
              "      <td>...</td>\n",
              "      <td>...</td>\n",
              "    </tr>\n",
              "    <tr>\n",
              "      <th>84307</th>\n",
              "      <td>879</td>\n",
              "      <td>1</td>\n",
              "      <td>0.955407</td>\n",
              "      <td>0.687106</td>\n",
              "      <td>0.601224</td>\n",
              "      <td>1.959786</td>\n",
              "      <td>1.959786</td>\n",
              "      <td>0.555781</td>\n",
              "      <td>573454.485670</td>\n",
              "      <td>130816.5279916</td>\n",
              "      <td>88410.62364784</td>\n",
              "      <td>276106.602930</td>\n",
              "      <td>0.536546</td>\n",
              "      <td>0.12239705</td>\n",
              "      <td>0.08272043</td>\n",
              "      <td>0.258336</td>\n",
              "      <td>0.006627</td>\n",
              "      <td>251.167475</td>\n",
              "    </tr>\n",
              "    <tr>\n",
              "      <th>84308</th>\n",
              "      <td>880</td>\n",
              "      <td>1</td>\n",
              "      <td>0.953700</td>\n",
              "      <td>0.528094</td>\n",
              "      <td>0.509663</td>\n",
              "      <td>1.920730</td>\n",
              "      <td>1.920730</td>\n",
              "      <td>0.558980</td>\n",
              "      <td>690929.530218</td>\n",
              "      <td>136638.86420592</td>\n",
              "      <td>103589.53405265</td>\n",
              "      <td>256077.099645</td>\n",
              "      <td>0.581965</td>\n",
              "      <td>0.11508999</td>\n",
              "      <td>0.08725276</td>\n",
              "      <td>0.215692</td>\n",
              "      <td>0.005217</td>\n",
              "      <td>301.290420</td>\n",
              "    </tr>\n",
              "    <tr>\n",
              "      <th>84309</th>\n",
              "      <td>881</td>\n",
              "      <td>1</td>\n",
              "      <td>1.091841</td>\n",
              "      <td>0.550011</td>\n",
              "      <td>0.554545</td>\n",
              "      <td>1.858709</td>\n",
              "      <td>1.858709</td>\n",
              "      <td>0.557062</td>\n",
              "      <td>561455.256094</td>\n",
              "      <td>102920.77964855</td>\n",
              "      <td>84385.11214613</td>\n",
              "      <td>201981.698371</td>\n",
              "      <td>0.590544</td>\n",
              "      <td>0.10825302</td>\n",
              "      <td>0.08875703</td>\n",
              "      <td>0.212446</td>\n",
              "      <td>0.004441</td>\n",
              "      <td>350.260686</td>\n",
              "    </tr>\n",
              "    <tr>\n",
              "      <th>84310</th>\n",
              "      <td>882</td>\n",
              "      <td>1</td>\n",
              "      <td>1.059512</td>\n",
              "      <td>0.717801</td>\n",
              "      <td>0.511750</td>\n",
              "      <td>1.888685</td>\n",
              "      <td>1.888685</td>\n",
              "      <td>0.556876</td>\n",
              "      <td>555710.688519</td>\n",
              "      <td>120112.08409237</td>\n",
              "      <td>91701.47751394</td>\n",
              "      <td>180109.745871</td>\n",
              "      <td>0.586419</td>\n",
              "      <td>0.12674945</td>\n",
              "      <td>0.09676888</td>\n",
              "      <td>0.190063</td>\n",
              "      <td>0.004238</td>\n",
              "      <td>350.820811</td>\n",
              "    </tr>\n",
              "    <tr>\n",
              "      <th>84311</th>\n",
              "      <td>883</td>\n",
              "      <td>1</td>\n",
              "      <td>1.227888</td>\n",
              "      <td>0.678792</td>\n",
              "      <td>0.540483</td>\n",
              "      <td>1.898164</td>\n",
              "      <td>1.898164</td>\n",
              "      <td>0.558671</td>\n",
              "      <td>613551.608594</td>\n",
              "      <td>125993.98016222</td>\n",
              "      <td>102750.67771414</td>\n",
              "      <td>250834.424725</td>\n",
              "      <td>0.561279</td>\n",
              "      <td>0.11525976</td>\n",
              "      <td>0.0939967</td>\n",
              "      <td>0.229464</td>\n",
              "      <td>0.005459</td>\n",
              "      <td>302.035658</td>\n",
              "    </tr>\n",
              "  </tbody>\n",
              "</table>\n",
              "<p>84312 rows × 18 columns</p>\n",
              "</div>"
            ],
            "text/plain": [
              "       epoch  condition       DFA  Hurst Exponent       HFF  Fisher Info  \\\n",
              "0          0          1  0.837485        0.400955  0.658111     2.041313   \n",
              "1          1          1  0.998604        0.430684  0.646741     1.983289   \n",
              "2          2          1  0.897386        0.465226  0.464066     1.928401   \n",
              "3          3          1  0.890133        0.393192  0.652857     2.025418   \n",
              "4          4          1  1.024876        0.615532  0.630969     1.966106   \n",
              "...      ...        ...       ...             ...       ...          ...   \n",
              "84307    879          1  0.955407        0.687106  0.601224     1.959786   \n",
              "84308    880          1  0.953700        0.528094  0.509663     1.920730   \n",
              "84309    881          1  1.091841        0.550011  0.554545     1.858709   \n",
              "84310    882          1  1.059512        0.717801  0.511750     1.888685   \n",
              "84311    883          1  1.227888        0.678792  0.540483     1.898164   \n",
              "\n",
              "       SVD Entropy       PFD    Power Delta       Power Theta  \\\n",
              "0         2.041313  0.550561  323795.996958    95106.76188001   \n",
              "1         1.983289  0.549353  392143.141464   110272.8196683    \n",
              "2         1.928401  0.555576  483994.101576   128847.0274195    \n",
              "3         2.025418  0.549887  423796.541398   112940.25357168   \n",
              "4         1.966106  0.550386  401737.291882   103449.05468694   \n",
              "...            ...       ...            ...               ...   \n",
              "84307     1.959786  0.555781  573454.485670   130816.5279916    \n",
              "84308     1.920730  0.558980  690929.530218   136638.86420592   \n",
              "84309     1.858709  0.557062  561455.256094   102920.77964855   \n",
              "84310     1.888685  0.556876  555710.688519   120112.08409237   \n",
              "84311     1.898164  0.558671  613551.608594   125993.98016222   \n",
              "\n",
              "            Power Alpha     Power Beta  Power Delta Normalized  \\\n",
              "0        57775.40616709  147590.522157                0.518680   \n",
              "1        60610.58585452  147630.579355                0.551804   \n",
              "2        62851.20521658  131960.880380                0.599260   \n",
              "3        67194.8481331   181349.309617                0.539675   \n",
              "4        70702.95559783  159968.475115                0.545944   \n",
              "...                 ...            ...                     ...   \n",
              "84307    88410.62364784  276106.602930                0.536546   \n",
              "84308   103589.53405265  256077.099645                0.581965   \n",
              "84309    84385.11214613  201981.698371                0.590544   \n",
              "84310    91701.47751394  180109.745871                0.586419   \n",
              "84311   102750.67771414  250834.424725                0.561279   \n",
              "\n",
              "      Power Theta Normalized Power Alpha Normalized  Power Beta Normalized  \\\n",
              "0                 0.15234908             0.09254894               0.236421   \n",
              "1                 0.15517022             0.08528809               0.207738   \n",
              "2                 0.15953261             0.07781954               0.163388   \n",
              "3                 0.14382146             0.08556791               0.230936   \n",
              "4                 0.14058295             0.09608237               0.217390   \n",
              "...                      ...                    ...                    ...   \n",
              "84307             0.12239705             0.08272043               0.258336   \n",
              "84308             0.11508999             0.08725276               0.215692   \n",
              "84309             0.10825302             0.08875703               0.212446   \n",
              "84310             0.12674945             0.09676888               0.190063   \n",
              "84311             0.11525976             0.0939967                0.229464   \n",
              "\n",
              "       Hjorth Mobility  Hjorth Complexity  \n",
              "0             0.006943         231.092251  \n",
              "1             0.005895         270.756454  \n",
              "2             0.004584         328.766394  \n",
              "3             0.006979         232.398377  \n",
              "4             0.005745         279.128132  \n",
              "...                ...                ...  \n",
              "84307         0.006627         251.167475  \n",
              "84308         0.005217         301.290420  \n",
              "84309         0.004441         350.260686  \n",
              "84310         0.004238         350.820811  \n",
              "84311         0.005459         302.035658  \n",
              "\n",
              "[84312 rows x 18 columns]"
            ]
          },
          "execution_count": 7,
          "metadata": {},
          "output_type": "execute_result"
        }
      ],
      "source": [
        "event_id = {'Sleep stage W': 1,\n",
        "            'Sleep stage 1': 2,\n",
        "            'Sleep stage 2': 3,\n",
        "            'Sleep stage 3/4': 4,\n",
        "            'Sleep stage R': 5}\n",
        "df.condition=df.condition.map(event_id)\n",
        "df"
      ]
    },
    {
      "cell_type": "code",
      "execution_count": 8,
      "metadata": {
        "id": "67Q2q3Iy6gSF"
      },
      "outputs": [],
      "source": [
        "# Todos los datos se colocan como tipo flotante\n",
        "df[['DFA',\n",
        " 'Hurst Exponent',\n",
        " 'HFF',\n",
        " 'Fisher Info',\n",
        " 'SVD Entropy',\n",
        " 'PFD',\n",
        " 'Power Delta',\n",
        " 'Power Theta',\n",
        " 'Power Alpha',\n",
        " 'Power Beta',\n",
        " 'Power Delta Normalized',\n",
        " 'Power Theta Normalized',\n",
        " 'Power Alpha Normalized',\n",
        " 'Power Beta Normalized',\n",
        " 'Hjorth Mobility',\n",
        " 'Hjorth Complexity']]=df[['DFA','Hurst Exponent',\n",
        " 'HFF',\n",
        " 'Fisher Info',\n",
        " 'SVD Entropy',\n",
        " 'PFD',\n",
        " 'Power Delta',\n",
        " 'Power Theta',\n",
        " 'Power Alpha',\n",
        " 'Power Beta',\n",
        " 'Power Delta Normalized',\n",
        " 'Power Theta Normalized',\n",
        " 'Power Alpha Normalized',\n",
        " 'Power Beta Normalized',\n",
        " 'Hjorth Mobility',\n",
        " 'Hjorth Complexity']].astype(float)\n"
      ]
    },
    {
      "cell_type": "code",
      "execution_count": 9,
      "metadata": {
        "colab": {
          "base_uri": "https://localhost:8080/",
          "height": 470
        },
        "id": "3-3oTGQ16x_y",
        "outputId": "23b8ed4a-4ca0-4bab-ddcc-530f61666428"
      },
      "outputs": [
        {
          "data": {
            "text/html": [
              "<div>\n",
              "<style scoped>\n",
              "    .dataframe tbody tr th:only-of-type {\n",
              "        vertical-align: middle;\n",
              "    }\n",
              "\n",
              "    .dataframe tbody tr th {\n",
              "        vertical-align: top;\n",
              "    }\n",
              "\n",
              "    .dataframe thead th {\n",
              "        text-align: right;\n",
              "    }\n",
              "</style>\n",
              "<table border=\"1\" class=\"dataframe\">\n",
              "  <thead>\n",
              "    <tr style=\"text-align: right;\">\n",
              "      <th></th>\n",
              "      <th>epoch</th>\n",
              "      <th>condition</th>\n",
              "      <th>DFA</th>\n",
              "      <th>Hurst Exponent</th>\n",
              "      <th>HFF</th>\n",
              "      <th>Fisher Info</th>\n",
              "      <th>SVD Entropy</th>\n",
              "      <th>PFD</th>\n",
              "      <th>Power Delta</th>\n",
              "      <th>Power Theta</th>\n",
              "      <th>Power Alpha</th>\n",
              "      <th>Power Beta</th>\n",
              "      <th>Power Delta Normalized</th>\n",
              "      <th>Power Theta Normalized</th>\n",
              "      <th>Power Alpha Normalized</th>\n",
              "      <th>Power Beta Normalized</th>\n",
              "      <th>Hjorth Mobility</th>\n",
              "      <th>Hjorth Complexity</th>\n",
              "    </tr>\n",
              "  </thead>\n",
              "  <tbody>\n",
              "    <tr>\n",
              "      <th>0</th>\n",
              "      <td>0</td>\n",
              "      <td>1</td>\n",
              "      <td>0.837485</td>\n",
              "      <td>0.400955</td>\n",
              "      <td>0.658111</td>\n",
              "      <td>2.041313</td>\n",
              "      <td>2.041313</td>\n",
              "      <td>0.550561</td>\n",
              "      <td>323795.996958</td>\n",
              "      <td>95106.761880</td>\n",
              "      <td>57775.406167</td>\n",
              "      <td>147590.522157</td>\n",
              "      <td>0.518680</td>\n",
              "      <td>0.152349</td>\n",
              "      <td>0.092549</td>\n",
              "      <td>0.236421</td>\n",
              "      <td>0.006943</td>\n",
              "      <td>231.092251</td>\n",
              "    </tr>\n",
              "    <tr>\n",
              "      <th>1</th>\n",
              "      <td>1</td>\n",
              "      <td>1</td>\n",
              "      <td>0.998604</td>\n",
              "      <td>0.430684</td>\n",
              "      <td>0.646741</td>\n",
              "      <td>1.983289</td>\n",
              "      <td>1.983289</td>\n",
              "      <td>0.549353</td>\n",
              "      <td>392143.141464</td>\n",
              "      <td>110272.819668</td>\n",
              "      <td>60610.585855</td>\n",
              "      <td>147630.579355</td>\n",
              "      <td>0.551804</td>\n",
              "      <td>0.155170</td>\n",
              "      <td>0.085288</td>\n",
              "      <td>0.207738</td>\n",
              "      <td>0.005895</td>\n",
              "      <td>270.756454</td>\n",
              "    </tr>\n",
              "    <tr>\n",
              "      <th>2</th>\n",
              "      <td>2</td>\n",
              "      <td>1</td>\n",
              "      <td>0.897386</td>\n",
              "      <td>0.465226</td>\n",
              "      <td>0.464066</td>\n",
              "      <td>1.928401</td>\n",
              "      <td>1.928401</td>\n",
              "      <td>0.555576</td>\n",
              "      <td>483994.101576</td>\n",
              "      <td>128847.027419</td>\n",
              "      <td>62851.205217</td>\n",
              "      <td>131960.880380</td>\n",
              "      <td>0.599260</td>\n",
              "      <td>0.159533</td>\n",
              "      <td>0.077820</td>\n",
              "      <td>0.163388</td>\n",
              "      <td>0.004584</td>\n",
              "      <td>328.766394</td>\n",
              "    </tr>\n",
              "    <tr>\n",
              "      <th>3</th>\n",
              "      <td>3</td>\n",
              "      <td>1</td>\n",
              "      <td>0.890133</td>\n",
              "      <td>0.393192</td>\n",
              "      <td>0.652857</td>\n",
              "      <td>2.025418</td>\n",
              "      <td>2.025418</td>\n",
              "      <td>0.549887</td>\n",
              "      <td>423796.541398</td>\n",
              "      <td>112940.253572</td>\n",
              "      <td>67194.848133</td>\n",
              "      <td>181349.309617</td>\n",
              "      <td>0.539675</td>\n",
              "      <td>0.143821</td>\n",
              "      <td>0.085568</td>\n",
              "      <td>0.230936</td>\n",
              "      <td>0.006979</td>\n",
              "      <td>232.398377</td>\n",
              "    </tr>\n",
              "    <tr>\n",
              "      <th>4</th>\n",
              "      <td>4</td>\n",
              "      <td>1</td>\n",
              "      <td>1.024876</td>\n",
              "      <td>0.615532</td>\n",
              "      <td>0.630969</td>\n",
              "      <td>1.966106</td>\n",
              "      <td>1.966106</td>\n",
              "      <td>0.550386</td>\n",
              "      <td>401737.291882</td>\n",
              "      <td>103449.054687</td>\n",
              "      <td>70702.955598</td>\n",
              "      <td>159968.475115</td>\n",
              "      <td>0.545944</td>\n",
              "      <td>0.140583</td>\n",
              "      <td>0.096082</td>\n",
              "      <td>0.217390</td>\n",
              "      <td>0.005745</td>\n",
              "      <td>279.128132</td>\n",
              "    </tr>\n",
              "    <tr>\n",
              "      <th>...</th>\n",
              "      <td>...</td>\n",
              "      <td>...</td>\n",
              "      <td>...</td>\n",
              "      <td>...</td>\n",
              "      <td>...</td>\n",
              "      <td>...</td>\n",
              "      <td>...</td>\n",
              "      <td>...</td>\n",
              "      <td>...</td>\n",
              "      <td>...</td>\n",
              "      <td>...</td>\n",
              "      <td>...</td>\n",
              "      <td>...</td>\n",
              "      <td>...</td>\n",
              "      <td>...</td>\n",
              "      <td>...</td>\n",
              "      <td>...</td>\n",
              "      <td>...</td>\n",
              "    </tr>\n",
              "    <tr>\n",
              "      <th>83599</th>\n",
              "      <td>879</td>\n",
              "      <td>1</td>\n",
              "      <td>0.955407</td>\n",
              "      <td>0.687106</td>\n",
              "      <td>0.601224</td>\n",
              "      <td>1.959786</td>\n",
              "      <td>1.959786</td>\n",
              "      <td>0.555781</td>\n",
              "      <td>573454.485670</td>\n",
              "      <td>130816.527992</td>\n",
              "      <td>88410.623648</td>\n",
              "      <td>276106.602930</td>\n",
              "      <td>0.536546</td>\n",
              "      <td>0.122397</td>\n",
              "      <td>0.082720</td>\n",
              "      <td>0.258336</td>\n",
              "      <td>0.006627</td>\n",
              "      <td>251.167475</td>\n",
              "    </tr>\n",
              "    <tr>\n",
              "      <th>83600</th>\n",
              "      <td>880</td>\n",
              "      <td>1</td>\n",
              "      <td>0.953700</td>\n",
              "      <td>0.528094</td>\n",
              "      <td>0.509663</td>\n",
              "      <td>1.920730</td>\n",
              "      <td>1.920730</td>\n",
              "      <td>0.558980</td>\n",
              "      <td>690929.530218</td>\n",
              "      <td>136638.864206</td>\n",
              "      <td>103589.534053</td>\n",
              "      <td>256077.099645</td>\n",
              "      <td>0.581965</td>\n",
              "      <td>0.115090</td>\n",
              "      <td>0.087253</td>\n",
              "      <td>0.215692</td>\n",
              "      <td>0.005217</td>\n",
              "      <td>301.290420</td>\n",
              "    </tr>\n",
              "    <tr>\n",
              "      <th>83601</th>\n",
              "      <td>881</td>\n",
              "      <td>1</td>\n",
              "      <td>1.091841</td>\n",
              "      <td>0.550011</td>\n",
              "      <td>0.554545</td>\n",
              "      <td>1.858709</td>\n",
              "      <td>1.858709</td>\n",
              "      <td>0.557062</td>\n",
              "      <td>561455.256094</td>\n",
              "      <td>102920.779649</td>\n",
              "      <td>84385.112146</td>\n",
              "      <td>201981.698371</td>\n",
              "      <td>0.590544</td>\n",
              "      <td>0.108253</td>\n",
              "      <td>0.088757</td>\n",
              "      <td>0.212446</td>\n",
              "      <td>0.004441</td>\n",
              "      <td>350.260686</td>\n",
              "    </tr>\n",
              "    <tr>\n",
              "      <th>83602</th>\n",
              "      <td>882</td>\n",
              "      <td>1</td>\n",
              "      <td>1.059512</td>\n",
              "      <td>0.717801</td>\n",
              "      <td>0.511750</td>\n",
              "      <td>1.888685</td>\n",
              "      <td>1.888685</td>\n",
              "      <td>0.556876</td>\n",
              "      <td>555710.688519</td>\n",
              "      <td>120112.084092</td>\n",
              "      <td>91701.477514</td>\n",
              "      <td>180109.745871</td>\n",
              "      <td>0.586419</td>\n",
              "      <td>0.126749</td>\n",
              "      <td>0.096769</td>\n",
              "      <td>0.190063</td>\n",
              "      <td>0.004238</td>\n",
              "      <td>350.820811</td>\n",
              "    </tr>\n",
              "    <tr>\n",
              "      <th>83603</th>\n",
              "      <td>883</td>\n",
              "      <td>1</td>\n",
              "      <td>1.227888</td>\n",
              "      <td>0.678792</td>\n",
              "      <td>0.540483</td>\n",
              "      <td>1.898164</td>\n",
              "      <td>1.898164</td>\n",
              "      <td>0.558671</td>\n",
              "      <td>613551.608594</td>\n",
              "      <td>125993.980162</td>\n",
              "      <td>102750.677714</td>\n",
              "      <td>250834.424725</td>\n",
              "      <td>0.561279</td>\n",
              "      <td>0.115260</td>\n",
              "      <td>0.093997</td>\n",
              "      <td>0.229464</td>\n",
              "      <td>0.005459</td>\n",
              "      <td>302.035658</td>\n",
              "    </tr>\n",
              "  </tbody>\n",
              "</table>\n",
              "<p>83604 rows × 18 columns</p>\n",
              "</div>"
            ],
            "text/plain": [
              "       epoch  condition       DFA  Hurst Exponent       HFF  Fisher Info  \\\n",
              "0          0          1  0.837485        0.400955  0.658111     2.041313   \n",
              "1          1          1  0.998604        0.430684  0.646741     1.983289   \n",
              "2          2          1  0.897386        0.465226  0.464066     1.928401   \n",
              "3          3          1  0.890133        0.393192  0.652857     2.025418   \n",
              "4          4          1  1.024876        0.615532  0.630969     1.966106   \n",
              "...      ...        ...       ...             ...       ...          ...   \n",
              "83599    879          1  0.955407        0.687106  0.601224     1.959786   \n",
              "83600    880          1  0.953700        0.528094  0.509663     1.920730   \n",
              "83601    881          1  1.091841        0.550011  0.554545     1.858709   \n",
              "83602    882          1  1.059512        0.717801  0.511750     1.888685   \n",
              "83603    883          1  1.227888        0.678792  0.540483     1.898164   \n",
              "\n",
              "       SVD Entropy       PFD    Power Delta    Power Theta    Power Alpha  \\\n",
              "0         2.041313  0.550561  323795.996958   95106.761880   57775.406167   \n",
              "1         1.983289  0.549353  392143.141464  110272.819668   60610.585855   \n",
              "2         1.928401  0.555576  483994.101576  128847.027419   62851.205217   \n",
              "3         2.025418  0.549887  423796.541398  112940.253572   67194.848133   \n",
              "4         1.966106  0.550386  401737.291882  103449.054687   70702.955598   \n",
              "...            ...       ...            ...            ...            ...   \n",
              "83599     1.959786  0.555781  573454.485670  130816.527992   88410.623648   \n",
              "83600     1.920730  0.558980  690929.530218  136638.864206  103589.534053   \n",
              "83601     1.858709  0.557062  561455.256094  102920.779649   84385.112146   \n",
              "83602     1.888685  0.556876  555710.688519  120112.084092   91701.477514   \n",
              "83603     1.898164  0.558671  613551.608594  125993.980162  102750.677714   \n",
              "\n",
              "          Power Beta  Power Delta Normalized  Power Theta Normalized  \\\n",
              "0      147590.522157                0.518680                0.152349   \n",
              "1      147630.579355                0.551804                0.155170   \n",
              "2      131960.880380                0.599260                0.159533   \n",
              "3      181349.309617                0.539675                0.143821   \n",
              "4      159968.475115                0.545944                0.140583   \n",
              "...              ...                     ...                     ...   \n",
              "83599  276106.602930                0.536546                0.122397   \n",
              "83600  256077.099645                0.581965                0.115090   \n",
              "83601  201981.698371                0.590544                0.108253   \n",
              "83602  180109.745871                0.586419                0.126749   \n",
              "83603  250834.424725                0.561279                0.115260   \n",
              "\n",
              "       Power Alpha Normalized  Power Beta Normalized  Hjorth Mobility  \\\n",
              "0                    0.092549               0.236421         0.006943   \n",
              "1                    0.085288               0.207738         0.005895   \n",
              "2                    0.077820               0.163388         0.004584   \n",
              "3                    0.085568               0.230936         0.006979   \n",
              "4                    0.096082               0.217390         0.005745   \n",
              "...                       ...                    ...              ...   \n",
              "83599                0.082720               0.258336         0.006627   \n",
              "83600                0.087253               0.215692         0.005217   \n",
              "83601                0.088757               0.212446         0.004441   \n",
              "83602                0.096769               0.190063         0.004238   \n",
              "83603                0.093997               0.229464         0.005459   \n",
              "\n",
              "       Hjorth Complexity  \n",
              "0             231.092251  \n",
              "1             270.756454  \n",
              "2             328.766394  \n",
              "3             232.398377  \n",
              "4             279.128132  \n",
              "...                  ...  \n",
              "83599         251.167475  \n",
              "83600         301.290420  \n",
              "83601         350.260686  \n",
              "83602         350.820811  \n",
              "83603         302.035658  \n",
              "\n",
              "[83604 rows x 18 columns]"
            ]
          },
          "execution_count": 9,
          "metadata": {},
          "output_type": "execute_result"
        }
      ],
      "source": [
        "# Se eliminan todos los datos que tienen un formato NaN\n",
        "df=df.loc[~(df['Hurst Exponent'].isna()),:]\n",
        "df.reset_index(inplace=True,drop=True)\n",
        "df"
      ]
    },
    {
      "cell_type": "markdown",
      "metadata": {
        "id": "ozZ2RbM8AhH3"
      },
      "source": [
        "## Balanceo de Dataset"
      ]
    },
    {
      "cell_type": "code",
      "execution_count": 10,
      "metadata": {
        "colab": {
          "base_uri": "https://localhost:8080/"
        },
        "id": "Ixmi7_Cg_dVg",
        "outputId": "37b7acc2-6e08-4c40-906b-bd23b22629fa"
      },
      "outputs": [
        {
          "data": {
            "text/plain": [
              "condition\n",
              "3    32965\n",
              "1    21933\n",
              "5    13216\n",
              "4     8384\n",
              "2     7106\n",
              "Name: count, dtype: int64"
            ]
          },
          "execution_count": 10,
          "metadata": {},
          "output_type": "execute_result"
        }
      ],
      "source": [
        "# Se realiza un conteo de cada una de las clases\n",
        "df.condition.value_counts()"
      ]
    },
    {
      "cell_type": "code",
      "execution_count": 11,
      "metadata": {
        "colab": {
          "base_uri": "https://localhost:8080/"
        },
        "id": "QTcRIPiQz_Px",
        "outputId": "7d8681a4-e7fa-4705-81f5-ad58173e6587"
      },
      "outputs": [
        {
          "data": {
            "text/plain": [
              "['epoch',\n",
              " 'condition',\n",
              " 'DFA',\n",
              " 'Hurst Exponent',\n",
              " 'HFF',\n",
              " 'Fisher Info',\n",
              " 'SVD Entropy',\n",
              " 'PFD',\n",
              " 'Power Delta',\n",
              " 'Power Theta',\n",
              " 'Power Alpha',\n",
              " 'Power Beta',\n",
              " 'Power Delta Normalized',\n",
              " 'Power Theta Normalized',\n",
              " 'Power Alpha Normalized',\n",
              " 'Power Beta Normalized',\n",
              " 'Hjorth Mobility',\n",
              " 'Hjorth Complexity']"
            ]
          },
          "execution_count": 11,
          "metadata": {},
          "output_type": "execute_result"
        }
      ],
      "source": [
        "df.columns.tolist()"
      ]
    },
    {
      "cell_type": "markdown",
      "metadata": {
        "id": "6tirQYGIzvA3"
      },
      "source": [
        "## Vector de características"
      ]
    },
    {
      "cell_type": "code",
      "execution_count": 12,
      "metadata": {
        "colab": {
          "base_uri": "https://localhost:8080/"
        },
        "id": "tXYCdyuGWnn8",
        "outputId": "8a7bd571-8e12-4e99-9ae0-69af5040d101"
      },
      "outputs": [
        {
          "data": {
            "text/plain": [
              "['DFA',\n",
              " 'Hurst Exponent',\n",
              " 'HFF',\n",
              " 'Fisher Info',\n",
              " 'SVD Entropy',\n",
              " 'PFD',\n",
              " 'Power Delta',\n",
              " 'Power Theta',\n",
              " 'Power Alpha',\n",
              " 'Power Beta',\n",
              " 'Power Delta Normalized',\n",
              " 'Power Theta Normalized',\n",
              " 'Power Alpha Normalized',\n",
              " 'Power Beta Normalized',\n",
              " 'Hjorth Mobility',\n",
              " 'Hjorth Complexity']"
            ]
          },
          "execution_count": 12,
          "metadata": {},
          "output_type": "execute_result"
        }
      ],
      "source": [
        "features=df.iloc[:,2:].columns.tolist()\n",
        "\n",
        "\n",
        "# features_final=[\n",
        "#  'DFA',\n",
        "#  'HFF',\n",
        "#  'Fisher Info',\n",
        "#  'SVD Entropy',\n",
        "#  'PFD',\n",
        "#  'Power Delta Normalized',\n",
        "#  'Power Theta Normalized',\n",
        "#  'Power Alpha Normalized',\n",
        "#  'Power Beta Normalized',\n",
        "#  'Hjorth Mobility',\n",
        "#  'Hjorth Complexity'\n",
        "#  ]\n",
        "\n",
        "#Se enlistan las características a utilizar\n",
        "features_final=[\n",
        " 'HFF',\n",
        " 'SVD Entropy',\n",
        " 'PFD',\n",
        " 'Power Delta',\n",
        " 'Power Theta',\n",
        " 'Power Beta',\n",
        " 'Power Delta Normalized',\n",
        " 'Power Theta Normalized',\n",
        " 'Power Alpha Normalized',\n",
        " 'Power Beta Normalized',\n",
        " 'Hjorth Mobility',\n",
        " ]\n",
        "\n",
        "features"
      ]
    },
    {
      "cell_type": "code",
      "execution_count": 13,
      "metadata": {
        "id": "vy61wX3FzuFY"
      },
      "outputs": [],
      "source": [
        "# Se declara la variable con las características\n",
        "X = df[features].values\n"
      ]
    },
    {
      "cell_type": "code",
      "execution_count": 14,
      "metadata": {
        "id": "Vepw0Y7LzuX7"
      },
      "outputs": [],
      "source": [
        "#Se define la variable con las etiquetas\n",
        "y = df['condition'].values\n"
      ]
    },
    {
      "cell_type": "markdown",
      "metadata": {
        "id": "lq05jqWx72MX"
      },
      "source": [
        "## XGBoost Classifier"
      ]
    },
    {
      "cell_type": "markdown",
      "metadata": {
        "id": "30dGZEeEX7tV"
      },
      "source": [
        "### Selección de features"
      ]
    },
    {
      "cell_type": "code",
      "execution_count": null,
      "metadata": {
        "colab": {
          "base_uri": "https://localhost:8080/"
        },
        "id": "zXVAuFX0X_Yh",
        "outputId": "6d4e4843-3520-4fef-8eba-7f99ddc127af"
      },
      "outputs": [
        {
          "name": "stdout",
          "output_type": "stream",
          "text": [
            "Train set: (66883, 16) (66883,)\n",
            "Test set: (16721, 16) (16721,)\n"
          ]
        },
        {
          "name": "stderr",
          "output_type": "stream",
          "text": [
            "/usr/local/lib/python3.7/dist-packages/sklearn/utils/deprecation.py:87: FutureWarning: Function safe_indexing is deprecated; safe_indexing is deprecated in version 0.22 and will be removed in version 0.24.\n",
            "  warnings.warn(msg, category=FutureWarning)\n",
            "/usr/local/lib/python3.7/dist-packages/sklearn/utils/deprecation.py:87: FutureWarning: Function safe_indexing is deprecated; safe_indexing is deprecated in version 0.22 and will be removed in version 0.24.\n",
            "  warnings.warn(msg, category=FutureWarning)\n",
            "/usr/local/lib/python3.7/dist-packages/sklearn/utils/deprecation.py:87: FutureWarning: Function safe_indexing is deprecated; safe_indexing is deprecated in version 0.22 and will be removed in version 0.24.\n",
            "  warnings.warn(msg, category=FutureWarning)\n",
            "/usr/local/lib/python3.7/dist-packages/sklearn/utils/deprecation.py:87: FutureWarning: Function safe_indexing is deprecated; safe_indexing is deprecated in version 0.22 and will be removed in version 0.24.\n",
            "  warnings.warn(msg, category=FutureWarning)\n"
          ]
        },
        {
          "name": "stdout",
          "output_type": "stream",
          "text": [
            "Num Features: 6\n",
            "Selected Features: [False False  True False False False  True False False  True  True  True\n",
            " False  True False False]\n",
            "Feature Ranking: [ 8  5  1  6 11  2  1  7  9  1  1  1  3  1 10  4]\n"
          ]
        }
      ],
      "source": [
        "X_train, X_test, y_train, y_test = train_test_split( X, y, test_size=0.2, random_state=42)\n",
        "print ('Train set:', X_train.shape,  y_train.shape)\n",
        "print ('Test set:', X_test.shape,  y_test.shape)\n",
        "\n",
        "sm = SMOTE(random_state=42)\n",
        "X_train, y_train = sm.fit_resample(X_train, y_train)\n",
        "\n",
        "model=XGBClassifier()\n",
        "\n",
        "rfe = RFE(model, 6)\n",
        "fit = rfe.fit(X_train, y_train)\n",
        "print(\"Num Features: %d\" % fit.n_features_)\n",
        "print(\"Selected Features: %s\" % fit.support_)\n",
        "print(\"Feature Ranking: %s\" % fit.ranking_)"
      ]
    },
    {
      "cell_type": "code",
      "execution_count": null,
      "metadata": {
        "colab": {
          "base_uri": "https://localhost:8080/"
        },
        "id": "0BfHCi1IabCT",
        "outputId": "be9d899f-98aa-468d-842b-7009c2e28e34"
      },
      "outputs": [
        {
          "data": {
            "text/plain": [
              "['HFF',\n",
              " 'Power Delta',\n",
              " 'Power Beta',\n",
              " 'Power Delta Normalized',\n",
              " 'Power Theta Normalized',\n",
              " 'Power Beta Normalized']"
            ]
          },
          "execution_count": 118,
          "metadata": {},
          "output_type": "execute_result"
        }
      ],
      "source": [
        "features_selected=[]\n",
        "for i in range(len(fit.support_)):\n",
        "  if(fit.support_[i]):\n",
        "    features_selected.append(features[i])\n",
        "features_selected"
      ]
    },
    {
      "cell_type": "code",
      "execution_count": null,
      "metadata": {
        "colab": {
          "base_uri": "https://localhost:8080/"
        },
        "id": "QyPWu7qQ0fTM",
        "outputId": "704f0879-00c8-4363-8073-0d8e87da1ad0"
      },
      "outputs": [
        {
          "name": "stdout",
          "output_type": "stream",
          "text": [
            "Train set: (66883, 11) (66883,)\n",
            "Test set: (16721, 11) (16721,)\n",
            "Before under sampling target statistics: Counter({3: 26309, 1: 17623, 5: 10553, 4: 6699, 2: 5699})\n"
          ]
        }
      ],
      "source": [
        "X2=df[features_final].values\n",
        "X_train, X_test, y_train, y_test = train_test_split(X2, y, test_size=0.2, random_state=42)\n",
        "print ('Train set:', X_train.shape,  y_train.shape)\n",
        "print ('Test set:', X_test.shape,  y_test.shape)\n",
        "\n",
        "\n",
        "# sm = SMOTE(random_state=42)\n",
        "# X_train, y_train = sm.fit_resample(X_train, y_train)\n",
        "\n",
        "# under_sampler = RandomUnderSampler(random_state=42,replacement=True)\n",
        "# X_res, y_res = under_sampler.fit_resample(X_train, y_train)\n",
        "\n",
        "print(f\"Before under sampling target statistics: {Counter(y_train)}\")\n",
        "# print(f\"After under sampling target statistics: {Counter(y_res)}\")\n",
        "\n",
        "model=XGBClassifier(objective='multi:softmax',n_estimators=100)\n",
        "\n",
        "model.fit(X_train,y_train,eval_metric=['merror','mlogloss'],verbose=True)\n",
        "\n",
        "yhat = model.predict(X_test)\n"
      ]
    },
    {
      "cell_type": "markdown",
      "metadata": {
        "id": "EFD1gc3BO_Wy"
      },
      "source": [
        "## Guardar el model"
      ]
    },
    {
      "cell_type": "code",
      "execution_count": null,
      "metadata": {
        "id": "LiVFfIg5O-Jw"
      },
      "outputs": [],
      "source": [
        "dump(model, 'xgboost.joblib') "
      ]
    },
    {
      "cell_type": "markdown",
      "metadata": {
        "id": "6Y46I5E7cWDQ"
      },
      "source": [
        "### Métricas"
      ]
    },
    {
      "cell_type": "code",
      "execution_count": null,
      "metadata": {
        "id": "aoGsw_8hcOBq"
      },
      "outputs": [],
      "source": [
        "print(\"Train set Accuracy: \", metrics.accuracy_score(y_train, model.predict(X_train)))\n",
        "print(\"Test set Accuracy: \", metrics.accuracy_score(y_test, yhat))"
      ]
    },
    {
      "cell_type": "markdown",
      "metadata": {
        "id": "DvwVG4KScY7E"
      },
      "source": [
        "### Matriz de confusión"
      ]
    },
    {
      "cell_type": "code",
      "execution_count": null,
      "metadata": {
        "id": "-rhKUH5D6ZNM"
      },
      "outputs": [],
      "source": [
        "# plot_confusion_matrix(model,X_test,y_test)\n",
        "\n",
        "df_cm = pd.DataFrame(confusion_matrix(y_test, yhat,normalize='pred'), index = ['W','N1','N2','N3/N4','R'],\n",
        "                  columns = ['W','N1','N2','N3/N4','R'])\n",
        "\n",
        "df_cm=df_cm*100\n",
        "\n",
        "plt.figure(figsize = (10,7))\n",
        "sn.heatmap(df_cm, annot=True, fmt=\".1f\")\n",
        "plt.show()\n",
        "\n",
        "clf_report=classification_report(y_test, yhat, target_names=event_id.keys(),output_dict=True)\n",
        "\n",
        "clf_report_classes=pd.DataFrame(clf_report).iloc[:-1, :].T.iloc[:-3]\n",
        "clf_report_total=pd.DataFrame(clf_report).iloc[:-1, :].T.iloc[-3:]\n",
        "\n",
        "\n",
        "display(clf_report_total)\n",
        "display(clf_report_classes)\n",
        "\n",
        "# sns.heatmap((pd.DataFrame(clf_report)).iloc[:-1, :].T, annot=True)"
      ]
    },
    {
      "cell_type": "markdown",
      "metadata": {
        "id": "EBSCJTNUBlve"
      },
      "source": [
        "## Random Forest"
      ]
    },
    {
      "cell_type": "markdown",
      "metadata": {
        "id": "bCdplzesc7la"
      },
      "source": [
        "### Selección de features"
      ]
    },
    {
      "cell_type": "code",
      "execution_count": null,
      "metadata": {
        "colab": {
          "base_uri": "https://localhost:8080/"
        },
        "id": "JKmYxefsRbMM",
        "outputId": "c0926d59-2ea3-4fc9-8160-04f7336d2f1a"
      },
      "outputs": [],
      "source": [
        "# Se realiza el entrenamiento del modelo para la selección de las características\n",
        "# más significantes \n",
        "X_train, X_test, y_train, y_test = train_test_split( X, y, test_size=0.2, random_state=4)\n",
        "print ('Train set:', X_train.shape,  y_train.shape)\n",
        "print ('Test set:', X_test.shape,  y_test.shape)\n",
        "\n",
        "sm = SMOTE(random_state=42)\n",
        "X_train, y_train = sm.fit_resample(X_train, y_train)\n",
        "\n",
        "model=RandomForestClassifier(n_estimators=100, random_state=42)\n",
        "\n",
        "rfe = RFE(model, 8)\n",
        "fit = rfe.fit(X_train, y_train)\n",
        "print(\"Num Features: %d\" % fit.n_features_)\n",
        "print(\"Selected Features: %s\" % fit.support_)\n",
        "print(\"Feature Ranking: %s\" % fit.ranking_)"
      ]
    },
    {
      "cell_type": "code",
      "execution_count": null,
      "metadata": {
        "colab": {
          "base_uri": "https://localhost:8080/"
        },
        "id": "Pm4HRg9FdHdQ",
        "outputId": "1764c0de-965b-4005-9dcd-9c89c8cda631"
      },
      "outputs": [
        {
          "data": {
            "text/plain": [
              "['HFF',\n",
              " 'PFD',\n",
              " 'Power Delta',\n",
              " 'Power Beta',\n",
              " 'Power Delta Normalized',\n",
              " 'Power Theta Normalized',\n",
              " 'Power Alpha Normalized',\n",
              " 'Power Beta Normalized']"
            ]
          },
          "execution_count": 192,
          "metadata": {},
          "output_type": "execute_result"
        }
      ],
      "source": [
        "# Se enlistan las características más significantes\n",
        "features_selected=[]\n",
        "for i in range(len(fit.support_)):\n",
        "  if(fit.support_[i]):\n",
        "    features_selected.append(features[i])\n",
        "features_selected"
      ]
    },
    {
      "cell_type": "code",
      "execution_count": 15,
      "metadata": {
        "id": "6JJZF9MBQiSu"
      },
      "outputs": [
        {
          "name": "stdout",
          "output_type": "stream",
          "text": [
            "Train set: (66883, 11) (66883,)\n",
            "Test set: (16721, 11) (16721,)\n"
          ]
        },
        {
          "name": "stderr",
          "output_type": "stream",
          "text": [
            "[Parallel(n_jobs=3)]: Using backend ThreadingBackend with 3 concurrent workers.\n",
            "[Parallel(n_jobs=3)]: Done  44 tasks      | elapsed:   12.7s\n",
            "[Parallel(n_jobs=3)]: Done 190 out of 190 | elapsed:   47.9s finished\n",
            "[Parallel(n_jobs=3)]: Using backend ThreadingBackend with 3 concurrent workers.\n",
            "[Parallel(n_jobs=3)]: Done  44 tasks      | elapsed:    0.0s\n",
            "[Parallel(n_jobs=3)]: Done 190 out of 190 | elapsed:    0.2s finished\n"
          ]
        }
      ],
      "source": [
        "# Se realiza el entrenamiento del modelo final\n",
        "X2=df[features_final].values\n",
        "X_train, X_test, y_train, y_test = train_test_split(X2, y, test_size=0.2, random_state=54)\n",
        "print ('Train set:', X_train.shape,  y_train.shape)\n",
        "print ('Test set:', X_test.shape,  y_test.shape)\n",
        "\n",
        "# sm = SMOTE(random_state=42)\n",
        "# X_train, y_train = sm.fit_resample(X_train, y_train)\n",
        "\n",
        "# under_sampler = RandomUnderSampler(random_state=42,replacement=True)\n",
        "# X_res, y_res = under_sampler.fit_resample(X_train, y_train)\n",
        "\n",
        "# print(f\"Before under sampling target statistics: {Counter(y_train)}\")\n",
        "# print(f\"After under sampling target statistics: {Counter(y_res)}\")\n",
        "\n",
        "model = RandomForestClassifier(n_estimators=190, random_state=82,verbose=1,n_jobs=3,max_depth=15,min_samples_split = 5,  min_samples_leaf = 1)\n",
        "\n",
        "model.fit(X_train,y_train)\n",
        "\n",
        "yhat = model.predict(X_test)"
      ]
    },
    {
      "cell_type": "markdown",
      "metadata": {
        "id": "N2FsC7whPLKm"
      },
      "source": [
        "## Guardar el model"
      ]
    },
    {
      "cell_type": "code",
      "execution_count": 26,
      "metadata": {
        "id": "Ttsl9OA0PLUF"
      },
      "outputs": [
        {
          "data": {
            "text/plain": [
              "['RandomForestSueno.joblib']"
            ]
          },
          "execution_count": 26,
          "metadata": {},
          "output_type": "execute_result"
        }
      ],
      "source": [
        "dump(model, 'RandomForestSueno.joblib') "
      ]
    },
    {
      "cell_type": "markdown",
      "metadata": {
        "id": "qayGd0cfdg8h"
      },
      "source": [
        "### Métricas"
      ]
    },
    {
      "cell_type": "code",
      "execution_count": 16,
      "metadata": {
        "id": "oQLTWpOzSsLr"
      },
      "outputs": [
        {
          "name": "stderr",
          "output_type": "stream",
          "text": [
            "[Parallel(n_jobs=3)]: Using backend ThreadingBackend with 3 concurrent workers.\n",
            "[Parallel(n_jobs=3)]: Done  44 tasks      | elapsed:    0.2s\n"
          ]
        },
        {
          "name": "stdout",
          "output_type": "stream",
          "text": [
            "Train set Accuracy:  0.902635946354081\n",
            "Test set Accuracy:  0.8044375336403325\n"
          ]
        },
        {
          "name": "stderr",
          "output_type": "stream",
          "text": [
            "[Parallel(n_jobs=3)]: Done 190 out of 190 | elapsed:    0.9s finished\n"
          ]
        }
      ],
      "source": [
        "print(\"Train set Accuracy: \", metrics.accuracy_score(y_train, model.predict(X_train)))\n",
        "print(\"Test set Accuracy: \", metrics.accuracy_score(y_test, yhat))"
      ]
    },
    {
      "cell_type": "markdown",
      "metadata": {
        "id": "lpv_7DgcdjdY"
      },
      "source": [
        "### Matriz de confusión"
      ]
    },
    {
      "cell_type": "code",
      "execution_count": 25,
      "metadata": {
        "id": "ql0Yl69ASaN1"
      },
      "outputs": [
        {
          "data": {
            "image/png": "[encoded data removed]",
            "text/plain": [
              "<Figure size 1000x700 with 2 Axes>"
            ]
          },
          "metadata": {},
          "output_type": "display_data"
        },
        {
          "data": {
            "text/html": [
              "<div>\n",
              "<style scoped>\n",
              "    .dataframe tbody tr th:only-of-type {\n",
              "        vertical-align: middle;\n",
              "    }\n",
              "\n",
              "    .dataframe tbody tr th {\n",
              "        vertical-align: top;\n",
              "    }\n",
              "\n",
              "    .dataframe thead th {\n",
              "        text-align: right;\n",
              "    }\n",
              "</style>\n",
              "<table border=\"1\" class=\"dataframe\">\n",
              "  <thead>\n",
              "    <tr style=\"text-align: right;\">\n",
              "      <th></th>\n",
              "      <th>precision</th>\n",
              "      <th>recall</th>\n",
              "      <th>f1-score</th>\n",
              "    </tr>\n",
              "  </thead>\n",
              "  <tbody>\n",
              "    <tr>\n",
              "      <th>accuracy</th>\n",
              "      <td>0.804438</td>\n",
              "      <td>0.804438</td>\n",
              "      <td>0.804438</td>\n",
              "    </tr>\n",
              "    <tr>\n",
              "      <th>macro avg</th>\n",
              "      <td>0.759607</td>\n",
              "      <td>0.713809</td>\n",
              "      <td>0.721266</td>\n",
              "    </tr>\n",
              "    <tr>\n",
              "      <th>weighted avg</th>\n",
              "      <td>0.793226</td>\n",
              "      <td>0.804438</td>\n",
              "      <td>0.791848</td>\n",
              "    </tr>\n",
              "  </tbody>\n",
              "</table>\n",
              "</div>"
            ],
            "text/plain": [
              "              precision    recall  f1-score\n",
              "accuracy       0.804438  0.804438  0.804438\n",
              "macro avg      0.759607  0.713809  0.721266\n",
              "weighted avg   0.793226  0.804438  0.791848"
            ]
          },
          "metadata": {},
          "output_type": "display_data"
        },
        {
          "data": {
            "text/html": [
              "<div>\n",
              "<style scoped>\n",
              "    .dataframe tbody tr th:only-of-type {\n",
              "        vertical-align: middle;\n",
              "    }\n",
              "\n",
              "    .dataframe tbody tr th {\n",
              "        vertical-align: top;\n",
              "    }\n",
              "\n",
              "    .dataframe thead th {\n",
              "        text-align: right;\n",
              "    }\n",
              "</style>\n",
              "<table border=\"1\" class=\"dataframe\">\n",
              "  <thead>\n",
              "    <tr style=\"text-align: right;\">\n",
              "      <th></th>\n",
              "      <th>precision</th>\n",
              "      <th>recall</th>\n",
              "      <th>f1-score</th>\n",
              "    </tr>\n",
              "  </thead>\n",
              "  <tbody>\n",
              "    <tr>\n",
              "      <th>Sleep stage W</th>\n",
              "      <td>0.853596</td>\n",
              "      <td>0.911212</td>\n",
              "      <td>0.881464</td>\n",
              "    </tr>\n",
              "    <tr>\n",
              "      <th>Sleep stage 1</th>\n",
              "      <td>0.571685</td>\n",
              "      <td>0.228838</td>\n",
              "      <td>0.326844</td>\n",
              "    </tr>\n",
              "    <tr>\n",
              "      <th>Sleep stage 2</th>\n",
              "      <td>0.821760</td>\n",
              "      <td>0.877436</td>\n",
              "      <td>0.848686</td>\n",
              "    </tr>\n",
              "    <tr>\n",
              "      <th>Sleep stage 3/4</th>\n",
              "      <td>0.859988</td>\n",
              "      <td>0.805540</td>\n",
              "      <td>0.831874</td>\n",
              "    </tr>\n",
              "    <tr>\n",
              "      <th>Sleep stage R</th>\n",
              "      <td>0.691007</td>\n",
              "      <td>0.746019</td>\n",
              "      <td>0.717460</td>\n",
              "    </tr>\n",
              "  </tbody>\n",
              "</table>\n",
              "</div>"
            ],
            "text/plain": [
              "                 precision    recall  f1-score\n",
              "Sleep stage W     0.853596  0.911212  0.881464\n",
              "Sleep stage 1     0.571685  0.228838  0.326844\n",
              "Sleep stage 2     0.821760  0.877436  0.848686\n",
              "Sleep stage 3/4   0.859988  0.805540  0.831874\n",
              "Sleep stage R     0.691007  0.746019  0.717460"
            ]
          },
          "metadata": {},
          "output_type": "display_data"
        }
      ],
      "source": [
        "# plot_confusion_matrix(model,X_test,y_test)\n",
        "\n",
        "df_cm = pd.DataFrame(confusion_matrix(y_test, yhat,normalize='pred'), index = ['W','N1','N2','N3/N4','R'],\n",
        "                  columns = ['W','N1','N2','N3/N4','R'])\n",
        "\n",
        "df_cm=df_cm*100\n",
        "\n",
        "plt.figure(figsize = (10,7))\n",
        "sn.heatmap(df_cm, annot=True, fmt=\".1f\")\n",
        "plt.show()\n",
        "\n",
        "clf_report=classification_report(y_test, yhat, target_names=event_id.keys(),output_dict=True)\n",
        "\n",
        "clf_report_classes=pd.DataFrame(clf_report).iloc[:-1, :].T.iloc[:-3]\n",
        "clf_report_total=pd.DataFrame(clf_report).iloc[:-1, :].T.iloc[-3:]\n",
        "\n",
        "\n",
        "display(clf_report_total)\n",
        "display(clf_report_classes)"
      ]
    },
    {
      "cell_type": "code",
      "execution_count": null,
      "metadata": {
        "colab": {
          "base_uri": "https://localhost:8080/"
        },
        "id": "gWP8Pcvot0T-",
        "outputId": "8dfae1f4-7619-43bb-95f7-b77aac56d515"
      },
      "outputs": [
        {
          "name": "stderr",
          "output_type": "stream",
          "text": [
            "[Parallel(n_jobs=3)]: Using backend ThreadingBackend with 3 concurrent workers.\n",
            "[Parallel(n_jobs=3)]: Done  44 tasks      | elapsed:    0.0s\n",
            "[Parallel(n_jobs=3)]: Done 100 out of 100 | elapsed:    0.0s finished\n"
          ]
        },
        {
          "data": {
            "text/plain": [
              "array([1])"
            ]
          },
          "execution_count": 46,
          "metadata": {},
          "output_type": "execute_result"
        }
      ],
      "source": [
        "model.predict([[1.13978444e+00, 1.15084737e+00, 5.01683075e-02, 5.01683075e-02,\n",
        "        5.42001030e-01, 1.93290657e-01, 1.00629423e-01, 1.46786705e-01,\n",
        "        5.59293215e-01, 3.13950484e-04, 3.05555660e+03]])"
      ]
    },
    {
      "cell_type": "markdown",
      "metadata": {
        "id": "9foUI2ZbftNx"
      },
      "source": [
        "## SVM"
      ]
    },
    {
      "cell_type": "markdown",
      "metadata": {
        "id": "XyeYggQRftNx"
      },
      "source": [
        "### Selección de features"
      ]
    },
    {
      "cell_type": "code",
      "execution_count": null,
      "metadata": {
        "colab": {
          "base_uri": "https://localhost:8080/"
        },
        "id": "-pWXvC5eftNx",
        "outputId": "6aefcbbc-3e64-4ebe-a49e-da6c0cca1b63"
      },
      "outputs": [
        {
          "name": "stdout",
          "output_type": "stream",
          "text": [
            "Train set: (66883, 16) (66883,)\n",
            "Test set: (16721, 16) (16721,)\n"
          ]
        },
        {
          "name": "stderr",
          "output_type": "stream",
          "text": [
            "/usr/local/lib/python3.7/dist-packages/sklearn/utils/deprecation.py:87: FutureWarning: Function safe_indexing is deprecated; safe_indexing is deprecated in version 0.22 and will be removed in version 0.24.\n",
            "  warnings.warn(msg, category=FutureWarning)\n",
            "/usr/local/lib/python3.7/dist-packages/sklearn/utils/deprecation.py:87: FutureWarning: Function safe_indexing is deprecated; safe_indexing is deprecated in version 0.22 and will be removed in version 0.24.\n",
            "  warnings.warn(msg, category=FutureWarning)\n",
            "/usr/local/lib/python3.7/dist-packages/sklearn/utils/deprecation.py:87: FutureWarning: Function safe_indexing is deprecated; safe_indexing is deprecated in version 0.22 and will be removed in version 0.24.\n",
            "  warnings.warn(msg, category=FutureWarning)\n",
            "/usr/local/lib/python3.7/dist-packages/sklearn/utils/deprecation.py:87: FutureWarning: Function safe_indexing is deprecated; safe_indexing is deprecated in version 0.22 and will be removed in version 0.24.\n",
            "  warnings.warn(msg, category=FutureWarning)\n"
          ]
        }
      ],
      "source": [
        "X_train, X_test, y_train, y_test = train_test_split( X, y, test_size=0.2, random_state=4)\n",
        "print ('Train set:', X_train.shape,  y_train.shape)\n",
        "print ('Test set:', X_test.shape,  y_test.shape)\n",
        "\n",
        "sm = SMOTE(random_state=42)\n",
        "X_train, y_train = sm.fit_resample(X_train, y_train)\n",
        "\n",
        "model=SVC(kernel='rbf')\n",
        "\n",
        "rfe = RFE(model, 6)\n",
        "fit = rfe.fit(X_train, y_train)\n",
        "print(\"Num Features: %d\" % fit.n_features_)\n",
        "print(\"Selected Features: %s\" % fit.support_)\n",
        "print(\"Feature Ranking: %s\" % fit.ranking_)"
      ]
    },
    {
      "cell_type": "code",
      "execution_count": null,
      "metadata": {
        "id": "CTcs_xE4ftNx"
      },
      "outputs": [],
      "source": [
        "features_selected=[]\n",
        "for i in range(len(fit.support_)):\n",
        "  if(fit.support_[i]):\n",
        "    features_selected.append(features[i])\n",
        "features_selected"
      ]
    },
    {
      "cell_type": "code",
      "execution_count": null,
      "metadata": {
        "colab": {
          "base_uri": "https://localhost:8080/"
        },
        "id": "cE1yrWSEftNx",
        "outputId": "682fc8ff-8dc6-41a8-c5e2-9c7819b80191"
      },
      "outputs": [
        {
          "name": "stdout",
          "output_type": "stream",
          "text": [
            "Train set: (66883, 11) (66883,)\n",
            "Test set: (16721, 11) (16721,)\n",
            "Before under sampling target statistics: Counter({3: 26438, 1: 17532, 5: 10495, 4: 6739, 2: 5679})\n"
          ]
        }
      ],
      "source": [
        "X2=df[features_final].values\n",
        "X_train, X_test, y_train, y_test = train_test_split(X2, y, test_size=0.2, random_state=4)\n",
        "print ('Train set:', X_train.shape,  y_train.shape)\n",
        "print ('Test set:', X_test.shape,  y_test.shape)\n",
        "\n",
        "# sm = SMOTE(random_state=42)\n",
        "# X_train, y_train = sm.fit_resample(X_train, y_train)\n",
        "\n",
        "# under_sampler = RandomUnderSampler(random_state=42,replacement=True)\n",
        "# X_res, y_res = under_sampler.fit_resample(X_train, y_train)\n",
        "\n",
        "print(f\"Before under sampling target statistics: {Counter(y_train)}\")\n",
        "# print(f\"After under sampling target statistics: {Counter(y_res)}\")\n",
        "\n",
        "model = SVC(kernel='poly')\n",
        "\n",
        "model.fit(X_train,y_train)\n",
        "\n",
        "yhat = model.predict(X_test)"
      ]
    },
    {
      "cell_type": "markdown",
      "metadata": {
        "id": "-BqiFieNPREo"
      },
      "source": [
        "## Guardar el modelo"
      ]
    },
    {
      "cell_type": "code",
      "execution_count": null,
      "metadata": {
        "id": "MCZ7Eg0FPQsQ"
      },
      "outputs": [],
      "source": [
        "dump(clf, 'SVM.joblib') "
      ]
    },
    {
      "cell_type": "markdown",
      "metadata": {
        "id": "1gIZVWb0ftNx"
      },
      "source": [
        "### Métricas"
      ]
    },
    {
      "cell_type": "code",
      "execution_count": null,
      "metadata": {
        "colab": {
          "base_uri": "https://localhost:8080/"
        },
        "id": "BCIGC_Y2ftNx",
        "outputId": "c3d53a69-c7de-4eb7-8241-eda8bbd8621e"
      },
      "outputs": [
        {
          "name": "stdout",
          "output_type": "stream",
          "text": [
            "Train set Accuracy:  0.39584049758533557\n",
            "Test set Accuracy:  0.39118473775491897\n"
          ]
        }
      ],
      "source": [
        "print(\"Train set Accuracy: \", metrics.accuracy_score(y_train, model.predict(X_train)))\n",
        "print(\"Test set Accuracy: \", metrics.accuracy_score(y_test, yhat))"
      ]
    },
    {
      "cell_type": "markdown",
      "metadata": {
        "id": "dpw4ts7nftNy"
      },
      "source": [
        "### Matriz de confusión"
      ]
    },
    {
      "cell_type": "code",
      "execution_count": null,
      "metadata": {
        "colab": {
          "base_uri": "https://localhost:8080/",
          "height": 792
        },
        "id": "gsoMz_ziftNy",
        "outputId": "7f0aff1a-82bd-436c-b16b-d1be36f882d5"
      },
      "outputs": [
        {
          "data": {
            "image/png": "[encoded data removed]",
            "text/plain": [
              "<Figure size 720x504 with 2 Axes>"
            ]
          },
          "metadata": {
            "needs_background": "light"
          },
          "output_type": "display_data"
        },
        {
          "name": "stderr",
          "output_type": "stream",
          "text": [
            "/usr/local/lib/python3.7/dist-packages/sklearn/metrics/_classification.py:1272: UndefinedMetricWarning: Precision and F-score are ill-defined and being set to 0.0 in labels with no predicted samples. Use `zero_division` parameter to control this behavior.\n",
            "  _warn_prf(average, modifier, msg_start, len(result))\n"
          ]
        },
        {
          "data": {
            "text/html": [
              "<div>\n",
              "<style scoped>\n",
              "    .dataframe tbody tr th:only-of-type {\n",
              "        vertical-align: middle;\n",
              "    }\n",
              "\n",
              "    .dataframe tbody tr th {\n",
              "        vertical-align: top;\n",
              "    }\n",
              "\n",
              "    .dataframe thead th {\n",
              "        text-align: right;\n",
              "    }\n",
              "</style>\n",
              "<table border=\"1\" class=\"dataframe\">\n",
              "  <thead>\n",
              "    <tr style=\"text-align: right;\">\n",
              "      <th></th>\n",
              "      <th>precision</th>\n",
              "      <th>recall</th>\n",
              "      <th>f1-score</th>\n",
              "    </tr>\n",
              "  </thead>\n",
              "  <tbody>\n",
              "    <tr>\n",
              "      <th>accuracy</th>\n",
              "      <td>0.391185</td>\n",
              "      <td>0.391185</td>\n",
              "      <td>0.391185</td>\n",
              "    </tr>\n",
              "    <tr>\n",
              "      <th>macro avg</th>\n",
              "      <td>0.160972</td>\n",
              "      <td>0.200962</td>\n",
              "      <td>0.115553</td>\n",
              "    </tr>\n",
              "    <tr>\n",
              "      <th>weighted avg</th>\n",
              "      <td>0.261563</td>\n",
              "      <td>0.391185</td>\n",
              "      <td>0.223489</td>\n",
              "    </tr>\n",
              "  </tbody>\n",
              "</table>\n",
              "</div>"
            ],
            "text/plain": [
              "              precision    recall  f1-score\n",
              "accuracy       0.391185  0.391185  0.391185\n",
              "macro avg      0.160972  0.200962  0.115553\n",
              "weighted avg   0.261563  0.391185  0.223489"
            ]
          },
          "metadata": {},
          "output_type": "display_data"
        },
        {
          "data": {
            "text/html": [
              "<div>\n",
              "<style scoped>\n",
              "    .dataframe tbody tr th:only-of-type {\n",
              "        vertical-align: middle;\n",
              "    }\n",
              "\n",
              "    .dataframe tbody tr th {\n",
              "        vertical-align: top;\n",
              "    }\n",
              "\n",
              "    .dataframe thead th {\n",
              "        text-align: right;\n",
              "    }\n",
              "</style>\n",
              "<table border=\"1\" class=\"dataframe\">\n",
              "  <thead>\n",
              "    <tr style=\"text-align: right;\">\n",
              "      <th></th>\n",
              "      <th>precision</th>\n",
              "      <th>recall</th>\n",
              "      <th>f1-score</th>\n",
              "    </tr>\n",
              "  </thead>\n",
              "  <tbody>\n",
              "    <tr>\n",
              "      <th>Sleep stage W</th>\n",
              "      <td>0.413793</td>\n",
              "      <td>0.008180</td>\n",
              "      <td>0.016043</td>\n",
              "    </tr>\n",
              "    <tr>\n",
              "      <th>Sleep stage 1</th>\n",
              "      <td>0.000000</td>\n",
              "      <td>0.000000</td>\n",
              "      <td>0.000000</td>\n",
              "    </tr>\n",
              "    <tr>\n",
              "      <th>Sleep stage 2</th>\n",
              "      <td>0.391066</td>\n",
              "      <td>0.996629</td>\n",
              "      <td>0.561720</td>\n",
              "    </tr>\n",
              "    <tr>\n",
              "      <th>Sleep stage 3/4</th>\n",
              "      <td>0.000000</td>\n",
              "      <td>0.000000</td>\n",
              "      <td>0.000000</td>\n",
              "    </tr>\n",
              "    <tr>\n",
              "      <th>Sleep stage R</th>\n",
              "      <td>0.000000</td>\n",
              "      <td>0.000000</td>\n",
              "      <td>0.000000</td>\n",
              "    </tr>\n",
              "  </tbody>\n",
              "</table>\n",
              "</div>"
            ],
            "text/plain": [
              "                 precision    recall  f1-score\n",
              "Sleep stage W     0.413793  0.008180  0.016043\n",
              "Sleep stage 1     0.000000  0.000000  0.000000\n",
              "Sleep stage 2     0.391066  0.996629  0.561720\n",
              "Sleep stage 3/4   0.000000  0.000000  0.000000\n",
              "Sleep stage R     0.000000  0.000000  0.000000"
            ]
          },
          "metadata": {},
          "output_type": "display_data"
        }
      ],
      "source": [
        "# plot_confusion_matrix(model,X_test,y_test)\n",
        "\n",
        "df_cm = pd.DataFrame(confusion_matrix(y_test, yhat,normalize='pred'), index = ['W','N1','N2','N3/N4','R'],\n",
        "                  columns = ['W','N1','N2','N3/N4','R'])\n",
        "\n",
        "df_cm=df_cm*100\n",
        "\n",
        "plt.figure(figsize = (10,7))\n",
        "sn.heatmap(df_cm, annot=True, fmt=\".1f\")\n",
        "plt.show()\n",
        "\n",
        "clf_report=classification_report(y_test, yhat, target_names=event_id.keys(),output_dict=True)\n",
        "\n",
        "clf_report_classes=pd.DataFrame(clf_report).iloc[:-1, :].T.iloc[:-3]\n",
        "clf_report_total=pd.DataFrame(clf_report).iloc[:-1, :].T.iloc[-3:]\n",
        "\n",
        "\n",
        "display(clf_report_total)\n",
        "display(clf_report_classes)"
      ]
    },
    {
      "cell_type": "markdown",
      "metadata": {},
      "source": [
        "# Analisis de impacto de pulsos binaurales en sueño"
      ]
    },
    {
      "cell_type": "code",
      "execution_count": 32,
      "metadata": {},
      "outputs": [],
      "source": [
        "# Se leen las características de cada una de las noches del\n",
        "# sujeto de prueba a analizar\n",
        "temp = pd.read_csv('0201_carac.csv')\n",
        "temp2 = pd.read_csv('0202_carac.csv')\n",
        "temp3 = pd.read_csv('0203_carac.csv')\n",
        "temp.dropna(inplace=True,ignore_index=True)\n",
        "temp2.dropna(inplace=True,ignore_index=True)\n",
        "temp3.dropna(inplace=True,ignore_index=True)\n",
        "features_final=[\n",
        " 'HFD',\n",
        " 'SVD Entropy',\n",
        " 'PFD',\n",
        " 'Power Delta',\n",
        " 'Power Theta',\n",
        " 'Power Beta',\n",
        " 'Power Delta Normalized',\n",
        " 'Power Theta Normalized',\n",
        " 'Power Alpha Normalized',\n",
        " 'Power Beta Normalized',\n",
        " 'Hjorth Mobility',\n",
        " ]\n",
        "X_pred = temp[features_final].values\n",
        "X_pred2 = temp2[features_final].values\n",
        "X_pred3 = temp3[features_final].values"
      ]
    },
    {
      "cell_type": "code",
      "execution_count": 33,
      "metadata": {},
      "outputs": [
        {
          "name": "stderr",
          "output_type": "stream",
          "text": [
            "[Parallel(n_jobs=3)]: Using backend ThreadingBackend with 3 concurrent workers.\n",
            "[Parallel(n_jobs=3)]: Done  44 tasks      | elapsed:    0.0s\n",
            "[Parallel(n_jobs=3)]: Done 190 out of 190 | elapsed:    0.2s finished\n",
            "[Parallel(n_jobs=3)]: Using backend ThreadingBackend with 3 concurrent workers.\n",
            "[Parallel(n_jobs=3)]: Done  44 tasks      | elapsed:    0.0s\n",
            "[Parallel(n_jobs=3)]: Done 190 out of 190 | elapsed:    0.0s finished\n",
            "[Parallel(n_jobs=3)]: Using backend ThreadingBackend with 3 concurrent workers.\n",
            "[Parallel(n_jobs=3)]: Done  44 tasks      | elapsed:    0.0s\n",
            "[Parallel(n_jobs=3)]: Done 190 out of 190 | elapsed:    0.0s finished\n"
          ]
        }
      ],
      "source": [
        "# Se realiza la predicción de cada una de las epócas y se cambia\n",
        "# la condición numérica por texto.\n",
        "prediction = model.predict(X_pred)\n",
        "prediction2 = model.predict(X_pred2)\n",
        "prediction3 = model.predict(X_pred3)\n",
        "\n",
        "event_id = {1 : 'Sleep stage W',\n",
        "            2 : 'Sleep stage 1',\n",
        "            3 : 'Sleep stage 2',\n",
        "            4 : 'Sleep stage 3/4',\n",
        "            5 : 'Sleep stage R'}\n",
        "\n",
        "prediction_e = []\n",
        "prediction_e2 = []\n",
        "prediction_e3 = []\n",
        "for i in range(len(prediction)):\n",
        "    prediction_e.append(event_id[prediction[i]])\n",
        "\n",
        "for i in range(len(prediction2)):\n",
        "    prediction_e2.append(event_id[prediction2[i]])\n",
        "\n",
        "for i in range(len(prediction3)):\n",
        "    prediction_e3.append(event_id[prediction3[i]])\n"
      ]
    },
    {
      "cell_type": "markdown",
      "metadata": {},
      "source": [
        "# Gráfico de calidad de sueño"
      ]
    },
    {
      "cell_type": "code",
      "execution_count": 35,
      "metadata": {},
      "outputs": [
        {
          "name": "stderr",
          "output_type": "stream",
          "text": [
            "The PostScript backend does not support transparency; partially transparent artists will be rendered opaque.\n"
          ]
        },
        {
          "data": {
            "image/png": "[encoded data removed]",
            "text/plain": [
              "<Figure size 1000x600 with 1 Axes>"
            ]
          },
          "metadata": {},
          "output_type": "display_data"
        }
      ],
      "source": [
        "# outputs = ['Sleep stage W', 'Sleep stage 1', 'Sleep stage 2', 'Sleep stage 3/4', 'Sleep stage R']\n",
        "# order = np.array(outputs)\n",
        "# outputs_ordered = np.searchsorted(order, prediction_e)\n",
        "# plt.scatter(np.arange(0,temp.shape[0]),outputs_ordered)\n",
        "# plt.yticks(np.arange(order.size), order)\n",
        "# plt.show()\n",
        "\n",
        "epochs = np.arange(0, temp.shape[0])\n",
        "epochs2 = np.arange(0, temp2.shape[0])\n",
        "epochs3 = np.arange(0, temp3.shape[0])\n",
        "plt.figure(figsize=(10, 6))\n",
        "plt.scatter(epochs, prediction, color='b', label='Sueño sin pulsos')\n",
        "plt.scatter(epochs2, prediction2, color='g', label='Sueño con pulsos 1')\n",
        "plt.scatter(epochs3, prediction3, color='y', label='Sueño con pulsos 2')\n",
        "plt.yticks([1,2,3,4,5],['Sleep stage W', 'Sleep stage 1', 'Sleep stage 2', 'Sleep stage 3/4', 'Sleep stage R'])\n",
        "plt.xlabel('Epochs')\n",
        "plt.ylabel('Fases sueño')\n",
        "plt.title('Comportamiento del sueño con y sin pulsos')\n",
        "plt.legend()\n",
        "plt.grid()\n",
        "plt.savefig('comportamiento_sueno_sujeto2.eps',format='eps')\n",
        "plt.show()"
      ]
    },
    {
      "cell_type": "code",
      "execution_count": 64,
      "metadata": {},
      "outputs": [
        {
          "name": "stdout",
          "output_type": "stream",
          "text": [
            "Cantidad de estado despierto: 962\n",
            "Cantidad de estado N1: 0\n",
            "Cantidad de estado N2: 49\n",
            "Cantidad de estado N3/N4: 5\n",
            "Cantidad de estado REM: 0\n"
          ]
        }
      ],
      "source": [
        "# Se contabiliza la cantidad de épocas en cada una de las\n",
        "# fase de sueño.\n",
        "variable = prediction3\n",
        "count1 = np.count_nonzero(variable==1)\n",
        "count2 = np.count_nonzero(variable==2)\n",
        "count3 = np.count_nonzero(variable==3)\n",
        "count4 = np.count_nonzero(variable==4)\n",
        "count5 = np.count_nonzero(variable==5)\n",
        "print ('Cantidad de estado despierto: %i' % count1)\n",
        "print ('Cantidad de estado N1: %i' % count2)\n",
        "print ('Cantidad de estado N2: %i' % count3)\n",
        "print ('Cantidad de estado N3/N4: %i' % count4)\n",
        "print ('Cantidad de estado REM: %i' % count5)\n"
      ]
    },
    {
      "cell_type": "markdown",
      "metadata": {
        "id": "6l2-yD6egfAp"
      },
      "source": [
        "### Código para KFolds (Deprecated)"
      ]
    },
    {
      "cell_type": "code",
      "execution_count": null,
      "metadata": {
        "colab": {
          "base_uri": "https://localhost:8080/"
        },
        "id": "aEOJgJl9jc9a",
        "outputId": "8f90339d-94a7-4304-9381-7e35476596a2"
      },
      "outputs": [
        {
          "name": "stdout",
          "output_type": "stream",
          "text": [
            "[    0     1     3 ... 83600 83601 83602] [    2     9    26 ... 83584 83587 83603]\n",
            "[    0     1     2 ... 83599 83602 83603] [   10    11    13 ... 83592 83600 83601]\n",
            "[    0     1     2 ... 83601 83602 83603] [    4     7    15 ... 83581 83582 83591]\n",
            "[    0     1     2 ... 83601 83602 83603] [   20    24    28 ... 83565 83568 83590]\n",
            "[    1     2     4 ... 83600 83601 83603] [    0     3    12 ... 83597 83598 83602]\n",
            "[    0     1     2 ... 83601 83602 83603] [   16    22    35 ... 83566 83577 83589]\n",
            "[    0     1     2 ... 83601 83602 83603] [    5     6    31 ... 83586 83593 83596]\n",
            "[    0     2     3 ... 83601 83602 83603] [    1     8    21 ... 83588 83594 83599]\n"
          ]
        },
        {
          "name": "stderr",
          "output_type": "stream",
          "text": [
            "/usr/local/lib/python3.7/dist-packages/sklearn/utils/deprecation.py:87: FutureWarning: Function safe_indexing is deprecated; safe_indexing is deprecated in version 0.22 and will be removed in version 0.24.\n",
            "  warnings.warn(msg, category=FutureWarning)\n",
            "/usr/local/lib/python3.7/dist-packages/sklearn/utils/deprecation.py:87: FutureWarning: Function safe_indexing is deprecated; safe_indexing is deprecated in version 0.22 and will be removed in version 0.24.\n",
            "  warnings.warn(msg, category=FutureWarning)\n",
            "/usr/local/lib/python3.7/dist-packages/sklearn/utils/deprecation.py:87: FutureWarning: Function safe_indexing is deprecated; safe_indexing is deprecated in version 0.22 and will be removed in version 0.24.\n",
            "  warnings.warn(msg, category=FutureWarning)\n",
            "/usr/local/lib/python3.7/dist-packages/sklearn/utils/deprecation.py:87: FutureWarning: Function safe_indexing is deprecated; safe_indexing is deprecated in version 0.22 and will be removed in version 0.24.\n",
            "  warnings.warn(msg, category=FutureWarning)\n",
            "/usr/local/lib/python3.7/dist-packages/sklearn/utils/deprecation.py:87: FutureWarning: Function safe_indexing is deprecated; safe_indexing is deprecated in version 0.22 and will be removed in version 0.24.\n",
            "  warnings.warn(msg, category=FutureWarning)\n",
            "/usr/local/lib/python3.7/dist-packages/sklearn/utils/deprecation.py:87: FutureWarning: Function safe_indexing is deprecated; safe_indexing is deprecated in version 0.22 and will be removed in version 0.24.\n",
            "  warnings.warn(msg, category=FutureWarning)\n",
            "/usr/local/lib/python3.7/dist-packages/sklearn/utils/deprecation.py:87: FutureWarning: Function safe_indexing is deprecated; safe_indexing is deprecated in version 0.22 and will be removed in version 0.24.\n",
            "  warnings.warn(msg, category=FutureWarning)\n",
            "/usr/local/lib/python3.7/dist-packages/sklearn/utils/deprecation.py:87: FutureWarning: Function safe_indexing is deprecated; safe_indexing is deprecated in version 0.22 and will be removed in version 0.24.\n",
            "  warnings.warn(msg, category=FutureWarning)\n"
          ]
        },
        {
          "name": "stdout",
          "output_type": "stream",
          "text": [
            "0.7071093675246388\n",
            "0.7109367524638791\n",
            "0.709692852358626\n",
            "0.7051956750550187\n",
            "0.6988516746411483\n",
            "0.7029665071770335\n",
            "0.709377990430622\n",
            "0.7110047846889952\n",
            "accuracy of each fold - [0.7071093675246388, 0.7109367524638791, 0.709692852358626, 0.7051956750550187, 0.6988516746411483, 0.7029665071770335, 0.709377990430622, 0.7110047846889952]\n"
          ]
        }
      ],
      "source": [
        "kf = KFold(n_splits=8,shuffle=True)\n",
        "\n",
        "x_train,x_test,y_train,y_test=[],[],[],[]\n",
        "\n",
        "acc_score = []\n",
        "\n",
        "# for i in epochs_train:\n",
        "#   y.append(i)\n",
        "\n",
        "y_pred=[]\n",
        "\n",
        "# pipe = make_pipeline(FunctionTransformer(eeg_power_band, validate=False),\n",
        "#                      RandomForestClassifier(n_estimators=100, random_state=42))\n",
        "# \n",
        "\n",
        "pipe=RandomForestClassifier(n_estimators=100, random_state=42,)\n",
        "\n",
        "pipe2=XGBClassifier()\n",
        "\n",
        "sm = RandomUnderSampler(random_state=42,replacement=True)\n",
        "\n",
        "for train, test in kf.split(df[features_final].values):\n",
        "  print(train,test)\n",
        "  x_train.append(X[train])\n",
        "  x_test.append(X[test])\n",
        "  # print(train)\n",
        "  y_train.append(np.array(y)[train])\n",
        "  y_test.append(np.array(y)[test])\n",
        "\n",
        "  # for i,j,k in zip(range(len(X)),train,test):\n",
        "  #   x_train.append(X[j])\n",
        "  #   x_test.append(X[k])\n",
        "  #   y_train.append(y[j])\n",
        "  #   y_test.append(y[k])\n",
        "\n",
        "for m,n,o in zip(x_train,y_train,x_test):\n",
        "\n",
        "  \n",
        "  m, n = sm.fit_resample(m,n)\n",
        "\n",
        "  pipe2.fit(m,n)\n",
        "  y_pred.append(pipe2.predict(o))\n",
        "for g,h in zip(y_pred,y_test):\n",
        "  acc = accuracy_score(g , h)\n",
        "  print(acc)\n",
        "  acc_score.append(acc)\n",
        "\n",
        "print('accuracy of each fold - {}'.format(acc_score))"
      ]
    },
    {
      "cell_type": "code",
      "execution_count": null,
      "metadata": {
        "id": "2mdImMMgPkMl"
      },
      "outputs": [],
      "source": [
        "# from sklearn.model_selection import KFold\n",
        "# from sklearn.model_selection import cross_val_score\n",
        "# from numpy import mean\n",
        "# from numpy import std\n",
        "# kf = KFold(n_splits=3,shuffle=True)\n",
        "# x_train,x_test,y_train,y_test=[],[],[],[]\n",
        "# acc_score = []\n",
        "\n",
        "# y=df.condition.tolist()\n",
        "\n",
        "# y_pred=[]\n",
        "# # pipe = make_pipeline(FunctionTransformer(eeg_power_band, validate=False),\n",
        "# #                      RandomForestClassifier(n_estimators=100, random_state=42))\n",
        "# pipe = make_pipeline(XGBClassifier())\n",
        "\n",
        "# # sm = SMOTE(random_state=42)\n",
        "# # X_res, y_res = sm.fit_resample(X_train, y_train)\n",
        "\n",
        "\n",
        "\n",
        "# # XGBClassifier\n",
        "\n",
        "# for train, test in kf.split(X):\n",
        "#   print(train,test)\n",
        "#   for i,j,k in zip(range(len(X)),train,test):\n",
        "#     x_train.append(X[j])\n",
        "#     x_test.append(X[k])\n",
        "#     y_train.append(y[j])\n",
        "#     y_test.append(y[k])\n",
        "# for m,n,o in zip(x_train,y_train,x_test):\n",
        "#   pipe.fit(m,n)\n",
        "#   y_pred.append(pipe.predict(o))\n",
        "# for g,h in zip(y_pred,y_test):\n",
        "#   acc = accuracy_score(g , h)\n",
        "#   print(acc)\n",
        "#   acc_score.append(acc)\n",
        "\n",
        "# print('accuracy of each fold - {}'.format(acc_score))"
      ]
    }
  ],
  "metadata": {
    "accelerator": "GPU",
    "colab": {
      "collapsed_sections": [],
      "name": "Modelo ML.ipynb",
      "provenance": []
    },
    "kernelspec": {
      "display_name": "Python 3",
      "name": "python3"
    },
    "language_info": {
      "codemirror_mode": {
        "name": "ipython",
        "version": 3
      },
      "file_extension": ".py",
      "mimetype": "text/x-python",
      "name": "python",
      "nbconvert_exporter": "python",
      "pygments_lexer": "ipython3",
      "version": "3.8.3"
    }
  },
  "nbformat": 4,
  "nbformat_minor": 0
}
